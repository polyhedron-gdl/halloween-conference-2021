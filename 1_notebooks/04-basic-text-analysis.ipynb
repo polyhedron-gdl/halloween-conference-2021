{
 "cells": [
  {
   "cell_type": "markdown",
   "id": "a081bb3f",
   "metadata": {},
   "source": [
    "# Basic Text Analysis"
   ]
  },
  {
   "cell_type": "markdown",
   "id": "27ff6922",
   "metadata": {},
   "source": [
    "## What is Text Mining and Why it's so Important"
   ]
  },
  {
   "cell_type": "markdown",
   "id": "8e8478f1",
   "metadata": {},
   "source": [
    "Text is one of the most widespread forms of sequence data. It can be understood as\n",
    "either a sequence of characters or a sequence of words, but it’s most common to work\n",
    "at the level of words. According to industry estimates, only 21% of the available data is present in a structured form. Data is being generated as we speak, as we tweet, as we send messages on WhatsApp and in various other activities. The majority of this data exists in the textual form, which is highly unstructured in nature. \n",
    "\n",
    "Despite having high dimension data, the information present in it is not directly accessible unless it is processed (read and understood) manually or analyzed by an automated system. In order to produce significant and actionable insights from text data, it is important to get acquainted with the basics of Text Analysis.\n",
    "\n",
    "Text Mining is the process of analysis of texts written in natural language and extract high-quality information from text. It involves looking for interesting patterns in the text or to extract data from the text to be inserted into a database. Text mining tasks include text categorization, text clustering, concept/entity extraction, production of granular taxonomies, sentiment analysis, document summarization, and entity relation modeling (i.e., learning relations between named entities). Developers have to prepare text using lexical analysis, POS (Parts-of-speech) tagging, stemming and other Natural Language Processing techniques to gain useful information from text."
   ]
  },
  {
   "cell_type": "markdown",
   "id": "24865262",
   "metadata": {},
   "source": [
    "## Package Required"
   ]
  },
  {
   "cell_type": "markdown",
   "id": "a4dece3b",
   "metadata": {},
   "source": [
    "**To start**, install the packages you need to run the code in this notebook."
   ]
  },
  {
   "cell_type": "code",
   "execution_count": 1,
   "id": "791ed4af",
   "metadata": {},
   "outputs": [],
   "source": [
    "# Python Regular Expression (RegEx)\n",
    "import re\n",
    "# Operating System Module\n",
    "import os\n",
    "# numpy library\n",
    "import numpy as np\n",
    "# pandas library\n",
    "import pandas as pd\n",
    "# matplotlib library\n",
    "import matplotlib.pyplot as plt\n",
    "# if uising a Jupyter notebook, include:\n",
    "%matplotlib inline\n",
    "# Natural Language Toolkit \n",
    "import nltk\n",
    "# The BeautifulSoup Library for WEB Scraping\n",
    "from bs4 import BeautifulSoup\n",
    "\n",
    "import codecs\n",
    "from sklearn import feature_extraction"
   ]
  },
  {
   "cell_type": "markdown",
   "id": "c19227b6",
   "metadata": {},
   "source": [
    "## What is a Corpus"
   ]
  },
  {
   "cell_type": "markdown",
   "id": "4af30165",
   "metadata": {},
   "source": [
    "A Corpus is defined as a **collection of text documents** for example a data set containing news is a corpus or the tweets containing Twitter data is a corpus. So corpus consists of documents, documents comprise paragraphs, paragraphs comprise sentences and sentences comprise further smaller units which are called Tokens.\n",
    "\n",
    "Acquiring a domain-specific corpus will be essential to producing a languare-aware data product that performs well. Naturally the next question should then be \"How do we construct a dataset with wchich to build a language model?\". \n",
    "\n",
    "While in the next chapters we will see how to use existing corpus, it is still necessary to give a brief hint on how to extract texts from the web independently and which are the main libraries that we can use for this purpose."
   ]
  },
  {
   "cell_type": "markdown",
   "id": "3a43280c",
   "metadata": {},
   "source": [
    "## Processing Raw Text"
   ]
  },
  {
   "cell_type": "markdown",
   "id": "8fda06b7",
   "metadata": {},
   "source": [
    "The most important source of texts is undoubtedly the Web. It's convenient to have existing text collections to explore, such as the corpora we 'll see in the next paragraph. However, you probably have your own text sources in mind, and need to learn how to access them."
   ]
  },
  {
   "cell_type": "markdown",
   "id": "6af40fa9",
   "metadata": {
    "id": "ZCSLsffX1HLv"
   },
   "source": [
    "### Processing HTML Files\n",
    "\n",
    "The first type of structured text document you’ll look at is HTML—a markup\n",
    "language commonly used on the web for human-readable representation of\n",
    "information. An HTML document consists of text and predefined tags (enclosed\n",
    "in angle brackets <>) that control the presentation and interpretation of the\n",
    "text. The tags may have attributes.\n",
    "\n",
    "Reference: [this](https://towardsdatascience.com/choose-the-best-python-web-scraping-library-for-your-application-91a68bc81c4f)"
   ]
  },
  {
   "cell_type": "markdown",
   "id": "0731085c",
   "metadata": {},
   "source": [
    "### Urllib\n",
    "\n",
    "Urllib is a Python library that allows the developer to open and parse information from HTTP or FTP protocols. Urllib offers some functionality to deal with and open URLs, namely:\n",
    "- urllib.request: opens and reads URLs.\n",
    "- urllib.error: catches the exceptions raised by urllib.request.\n",
    "- urllib.parse: parses URLs.\n",
    "- urllib.robotparser: parses robots.txt files.\n",
    "\n",
    "You don’t need to install Urllib since it is a part of the built-in Python library."
   ]
  },
  {
   "cell_type": "code",
   "execution_count": 2,
   "id": "9fcf5aa8",
   "metadata": {},
   "outputs": [],
   "source": [
    "from urllib import request\n",
    "\n",
    "def freq_words_2(url, n):\n",
    "    html = request.urlopen(url).read().decode('utf8')\n",
    "    text = BeautifulSoup(html, 'html.parser').get_text()\n",
    "    fd = nltk.FreqDist(word.lower() for word in nltk.word_tokenize(text))\n",
    "    return [word for (word, _) in fd.most_common(n)]"
   ]
  },
  {
   "cell_type": "code",
   "execution_count": 3,
   "id": "5b52a4f1",
   "metadata": {},
   "outputs": [
    {
     "data": {
      "text/plain": [
       "['the', ',', 'to', 'of', '.']"
      ]
     },
     "execution_count": 3,
     "metadata": {},
     "output_type": "execute_result"
    }
   ],
   "source": [
    "page = \"https://static.nytimes.com/email-content/CB_sample.html\"\n",
    "freq_words_2(page, 5)"
   ]
  },
  {
   "cell_type": "code",
   "execution_count": 4,
   "id": "58c72d5d",
   "metadata": {},
   "outputs": [],
   "source": [
    "from nltk.corpus import stopwords \n",
    "\n",
    "def freq_words_3(url, n):\n",
    "    stop_words = set(stopwords.words('english')) \n",
    "    html = request.urlopen(url).read().decode('utf8')\n",
    "    text = BeautifulSoup(html, 'html.parser').get_text()\n",
    "    fd = nltk.FreqDist(word.lower() for word in nltk.word_tokenize(text) if not word in stop_words and word.isalpha())\n",
    "    return [word for (word, _) in fd.most_common(n)]"
   ]
  },
  {
   "cell_type": "code",
   "execution_count": 5,
   "id": "37836eb3",
   "metadata": {},
   "outputs": [
    {
     "data": {
      "text/plain": [
       "['vaccine', 'children', 'the', 'said', 'pandemic']"
      ]
     },
     "execution_count": 5,
     "metadata": {},
     "output_type": "execute_result"
    }
   ],
   "source": [
    "freq_words_3(page, 5)"
   ]
  },
  {
   "cell_type": "markdown",
   "id": "97948223",
   "metadata": {},
   "source": [
    "### BeautifulSoup"
   ]
  },
  {
   "cell_type": "markdown",
   "id": "a8629801",
   "metadata": {
    "id": "ZpJ5ThgTvBEC"
   },
   "source": [
    "[BeautifulSoup](https://www.crummy.com/software/BeautifulSoup/bs4/doc/) is a Python library that is used to extract information from XML and HTML files. Beautiful Soup is considered a parser library. Parsers help the programmer obtain data from an HTML file. One of Beautiful Soup’s strengths is its ability to detect page encoding, and hence get more accurate information from the HTML text. Another advantage of Beautiful Soup is its simplicity and ease.\n",
    "\n",
    "You can construct a BeautifulSoup object from a markup\n",
    "string, a markup file, or a URL of a markup document on the web:"
   ]
  },
  {
   "cell_type": "code",
   "execution_count": 6,
   "id": "a0e03acd",
   "metadata": {},
   "outputs": [
    {
     "name": "stdout",
     "output_type": "stream",
     "text": [
      "«headers»«body»\n"
     ]
    }
   ],
   "source": [
    "from bs4 import BeautifulSoup\n",
    "\n",
    "# Construct soup from a string\n",
    "soup1 = BeautifulSoup(\"<HTML><HEAD>«headers»</HEAD>«body»</HTML>\")\n",
    "print(soup1.text)"
   ]
  },
  {
   "cell_type": "code",
   "execution_count": 7,
   "id": "38211295",
   "metadata": {},
   "outputs": [
    {
     "name": "stdout",
     "output_type": "stream",
     "text": [
      "<title>Democrats Poised For Senate Control As Counting Continues In Georgia : NPR</title>\n"
     ]
    }
   ],
   "source": [
    "# Construct soup from a local file\n",
    "soup2 = BeautifulSoup(open(\"./corpus/web/Democrats Poised For Senate Control As Counting Continues In Georgia_NPR.html\"))\n",
    "print(soup2.title)"
   ]
  },
  {
   "cell_type": "code",
   "execution_count": 8,
   "id": "dc709e90",
   "metadata": {},
   "outputs": [
    {
     "name": "stdout",
     "output_type": "stream",
     "text": [
      "Democrats Poised For Senate Control As Counting Continues In Georgia : NPR\n"
     ]
    }
   ],
   "source": [
    "print(soup2.title.string)"
   ]
  },
  {
   "cell_type": "markdown",
   "id": "0113e84f",
   "metadata": {},
   "source": [
    "One common task is extracting all the URLs found within a page’s <a> tags:"
   ]
  },
  {
   "cell_type": "code",
   "execution_count": 9,
   "id": "dfb4e3e8",
   "metadata": {},
   "outputs": [
    {
     "name": "stdout",
     "output_type": "stream",
     "text": [
      "https://www.npr.org/2021/01/06/953712195/democrats-move-closer-to-senate-control-as-counting-continues-in-georgia?t=1609935922923#mainContent\n",
      "https://help.npr.org/contact/s/article?name=what-are-the-keyboard-shortcuts-for-using-the-npr-org-audio-player\n",
      "https://www.npr.org/\n",
      "https://www.npr.org/2021/01/06/953712195/democrats-move-closer-to-senate-control-as-counting-continues-in-georgia?t=1609935922923#\n",
      "https://shop.npr.org/\n",
      "https://www.npr.org/donations/support\n",
      "https://www.npr.org/\n",
      "https://www.npr.org/sections/news/\n",
      "https://www.npr.org/sections/national/\n",
      "https://www.npr.org/sections/world/\n",
      "https://www.npr.org/sections/politics/\n",
      "https://www.npr.org/sections/business/\n",
      "https://www.npr.org/sections/health/\n",
      "https://www.npr.org/sections/science/\n",
      "https://www.npr.org/sections/technology/\n",
      "https://www.npr.org/sections/codeswitch/\n",
      "https://www.npr.org/sections/arts/\n",
      "https://www.npr.org/books/\n",
      "https://www.npr.org/sections/movies/\n",
      "https://www.npr.org/sections/television/\n",
      "https://www.npr.org/sections/pop-culture/\n",
      "https://www.npr.org/sections/food/\n",
      "https://www.npr.org/sections/art-design/\n",
      "https://www.npr.org/sections/performing-arts/\n",
      "https://www.npr.org/music/\n",
      "https://www.npr.org/series/tiny-desk-concerts/\n",
      "https://www.npr.org/sections/allsongs/\n",
      "https://www.npr.org/series/801298042/best-music-of-2020\n",
      "https://www.npr.org/sections/music-news/\n",
      "https://www.npr.org/sections/new-music/\n",
      "https://www.npr.org/sections/music-features\n",
      "https://www.npr.org/series/770565791/npr-music-live-sessions\n",
      "https://www.npr.org/programs/\n",
      "https://www.npr.org/programs/morning-edition/\n",
      "https://www.npr.org/programs/weekend-edition-saturday/\n",
      "https://www.npr.org/programs/weekend-edition-sunday/\n",
      "https://www.npr.org/programs/all-things-considered/\n",
      "https://www.npr.org/programs/fresh-air/\n",
      "https://www.npr.org/podcasts/510318/up-first\n",
      "https://www.npr.org/podcasts/510338/all-guides\n",
      "https://www.npr.org/podcasts/510289/planet-money\n",
      "https://www.npr.org/podcasts/510313/how-i-built-this\n",
      "https://www.npr.org/podcasts/344098539/wait-wait-don-t-tell-me\n",
      "https://www.npr.org/programs/\n",
      "https://www.npr.org/search\n",
      "https://www.npr.org/2021/01/06/953712195/democrats-move-closer-to-senate-control-as-counting-continues-in-georgia?t=1609935922923#\n",
      "https://shop.npr.org/\n",
      "https://www.npr.org/music/\n",
      "https://www.npr.org/series/tiny-desk-concerts/\n",
      "https://www.npr.org/sections/allsongs/\n",
      "https://www.npr.org/series/801298042/best-music-of-2020\n",
      "https://www.npr.org/sections/music-news/\n",
      "https://www.npr.org/sections/new-music/\n",
      "https://www.npr.org/sections/music-features\n",
      "https://www.npr.org/series/770565791/npr-music-live-sessions\n",
      "https://www.npr.org/about/\n",
      "https://www.npr.org/overview/\n",
      "https://www.npr.org/support/\n",
      "https://www.npr.org/careers/\n",
      "https://www.npr.org/connect/\n",
      "https://www.npr.org/press/\n",
      "https://www.npr.org/ethics/\n",
      "https://www.npr.org/\n",
      "https://www.npr.org/2021/01/06/953712195/democrats-move-closer-to-senate-control-as-counting-continues-in-georgia?t=1609935922923#\n",
      "None\n",
      "https://rpb3r.app.goo.gl/XDGl\n",
      "https://podcasts.apple.com/podcast/id1057255460?mt=2&at=11l79Y&ct=nprdirectory\n",
      "https://www.google.com/podcasts?feed=aHR0cHM6Ly93d3cubnByLm9yZy9yc3MvcG9kY2FzdC5waHA_aWQ9NTEwMzEw\n",
      "https://pca.st/npr-politics\n",
      "https://open.spotify.com/show/2PnWnDNwU3wKesCHCpy252\n",
      "https://feeds.npr.org/510310/podcast.xml\n",
      "https://www.npr.org/sections/politics/\n",
      "https://www.npr.org/people/617095374/deirdre-walsh\n",
      "https://www.npr.org/people/617095374/deirdre-walsh\n",
      "https://instagram.com/deirdrekwalsh\n",
      "https://www.twitter.com/@deirdrekwalsh\n",
      "https://www.npr.org/people/567313683/kelsey-snell\n",
      "https://www.npr.org/people/567313683/kelsey-snell\n",
      "https://www.twitter.com/kelsey_snell\n",
      "https://www.npr.org/2021/01/05/953245235/georgia-senate-runoffs-to-determine-which-party-controls-chamber\n",
      "https://www.npr.org/2021/01/06/952429877/democrat-raphael-warnock-wins-georgia-runoff\n",
      "https://www.npr.org/sections/elections/\n",
      "https://www.npr.org/2021/01/06/952429877/democrat-raphael-warnock-wins-georgia-runoff\n",
      "https://www.npr.org/2021/01/06/953616107/pence-faces-his-most-challenging-trump-loyalty-test-yet\n",
      "https://www.npr.org/sections/elections/\n",
      "https://www.npr.org/2021/01/06/953616107/pence-faces-his-most-challenging-trump-loyalty-test-yet\n",
      "https://www.npr.org/2021/01/05/953245235/georgia-senate-runoffs-to-determine-which-party-controls-chamber\n",
      "https://www.npr.org/sections/politics/\n",
      "https://www.npr.org/2021/01/05/953245235/georgia-senate-runoffs-to-determine-which-party-controls-chamber\n",
      "https://www.npr.org/2020/12/22/949134479/congress-role-in-election-results-heres-what-happens-jan-6\n",
      "https://www.npr.org/sections/politics/\n",
      "https://www.npr.org/2020/12/22/949134479/congress-role-in-election-results-heres-what-happens-jan-6\n",
      "https://www.npr.org/2021/01/05/953406932/definitely-a-civil-war-trumps-demands-splinter-gop-ahead-of-georgia-vote\n",
      "https://www.npr.org/sections/elections/\n",
      "https://www.npr.org/2021/01/05/953406932/definitely-a-civil-war-trumps-demands-splinter-gop-ahead-of-georgia-vote\n",
      "https://www.npr.org/2021/01/05/953627011/scotland-s-leader-says-trump-wouldn-t-be-allowed-to-visit-under-pandemic-rule\n",
      "https://www.npr.org/sections/politics/\n",
      "https://www.npr.org/2021/01/05/953627011/scotland-s-leader-says-trump-wouldn-t-be-allowed-to-visit-under-pandemic-rule\n",
      "https://www.npr.org/sections/coronavirus-live-updates/2021/01/05/953444637/l-a-paramedics-told-not-to-transport-some-patients-with-low-chance-of-survival\n",
      "https://www.npr.org/sections/health/\n",
      "https://www.npr.org/sections/coronavirus-live-updates/2021/01/05/953444637/l-a-paramedics-told-not-to-transport-some-patients-with-low-chance-of-survival\n",
      "https://www.npr.org/sections/coronavirus-live-updates/2021/01/04/953287746/costume-may-have-contributed-to-an-outbreak-at-california-hospital-infecting-44\n",
      "https://www.npr.org/sections/health/\n",
      "https://www.npr.org/sections/coronavirus-live-updates/2021/01/04/953287746/costume-may-have-contributed-to-an-outbreak-at-california-hospital-infecting-44\n",
      "https://www.npr.org/2021/01/05/953249677/exercised-explains-why-it-can-be-hard-to-commit-to-working-out-and-why-we-should\n",
      "https://www.npr.org/sections/book-reviews/\n",
      "https://www.npr.org/2021/01/05/953249677/exercised-explains-why-it-can-be-hard-to-commit-to-working-out-and-why-we-should\n",
      "https://www.npr.org/2021/01/05/953594475/kyle-rittenhouse-accused-kenosha-shooter-pleads-not-guilty-to-all-charges\n",
      "https://www.npr.org/sections/national/\n",
      "https://www.npr.org/2021/01/05/953594475/kyle-rittenhouse-accused-kenosha-shooter-pleads-not-guilty-to-all-charges\n",
      "https://www.npr.org/sections/coronavirus-live-updates/2021/01/05/953779007/hospital-scrambles-to-find-patients-before-freezer-failure-ruins-830-vaccines\n",
      "https://www.npr.org/sections/medical/\n",
      "https://www.npr.org/sections/coronavirus-live-updates/2021/01/05/953779007/hospital-scrambles-to-find-patients-before-freezer-failure-ruins-830-vaccines\n",
      "https://www.npr.org/2021/01/05/953527533/national-guard-mobilized-as-kenosha-braces-for-charging-decision-in-jacob-blake\n",
      "https://www.npr.org/sections/national/\n",
      "https://www.npr.org/2021/01/05/953527533/national-guard-mobilized-as-kenosha-braces-for-charging-decision-in-jacob-blake\n",
      "https://www.npr.org/2021/01/06/953254623/massive-1-year-rise-in-homicide-rates-collided-with-the-pandemic-in-2020\n",
      "https://www.npr.org/sections/national/\n",
      "https://www.npr.org/2021/01/06/953254623/massive-1-year-rise-in-homicide-rates-collided-with-the-pandemic-in-2020\n",
      "https://www.npr.org/2021/01/06/953858861/in-rare-display-of-contrition-north-korean-leader-admits-failures\n",
      "https://www.npr.org/sections/asia/\n",
      "https://www.npr.org/2021/01/06/953858861/in-rare-display-of-contrition-north-korean-leader-admits-failures\n",
      "https://www.npr.org/2021/01/06/953844625/in-dramatic-sweep-police-in-hong-kong-arrest-dozens-of-opposition-figures\n",
      "https://www.npr.org/sections/asia/\n",
      "https://www.npr.org/2021/01/06/953844625/in-dramatic-sweep-police-in-hong-kong-arrest-dozens-of-opposition-figures\n",
      "https://www.npr.org/2021/01/06/953203772/on-remember-me-beautiful-brandy-clark-processes-death-and-celebrates-life\n",
      "https://www.npr.org/sections/music-interviews/\n",
      "https://www.npr.org/2021/01/06/953203772/on-remember-me-beautiful-brandy-clark-processes-death-and-celebrates-life\n",
      "https://www.npr.org/2021/01/06/953783462/trump-orders-ban-on-chinese-software-apps-citing-potential-espionage\n",
      "https://www.npr.org/sections/business/\n",
      "https://www.npr.org/2021/01/06/953783462/trump-orders-ban-on-chinese-software-apps-citing-potential-espionage\n",
      "https://www.npr.org/2021/01/05/953677826/u-s-security-agencies-massive-computer-hack-is-likely-russian\n",
      "https://www.npr.org/sections/national-security/\n",
      "https://www.npr.org/2021/01/05/953677826/u-s-security-agencies-massive-computer-hack-is-likely-russian\n",
      "https://www.npr.org/\n",
      "https://www.npr.org/sections/news/\n",
      "https://www.npr.org/sections/arts/\n",
      "https://www.npr.org/music/\n",
      "https://www.npr.org/podcasts/\n",
      "https://www.npr.org/programs/\n",
      "https://www.npr.org/newsletters/\n",
      "https://www.facebook.com/NPR/\n",
      "https://twitter.com/NPR\n",
      "https://www.instagram.com/npr/\n",
      "https://www.npr.org/contact\n",
      "https://help.npr.org/\n",
      "https://www.npr.org/about/\n",
      "https://www.npr.org/about-npr/178660742/public-radio-finances\n",
      "https://www.npr.org/about-npr/179803822/people-at-npr\n",
      "https://www.npr.org/press/\n",
      "https://www.npr.org/sections/publiceditor/\n",
      "https://www.npr.org/corrections/\n",
      "https://www.npr.org/support/\n",
      "https://www.npr.org/about-npr/186948703/corporate-sponsorship\n",
      "https://www.npr.org/careers/\n",
      "https://shop.npr.org/\n",
      "https://www.nprpresents.org/\n",
      "https://www.npr.org/about-npr/177066727/visit-npr\n",
      "https://www.npr.org/about-npr/179876898/terms-of-use\n",
      "https://www.npr.org/about-npr/179878450/privacy-policy\n",
      "https://www.npr.org/about-npr/179878450/privacy-policy#yourchoices\n",
      "https://text.npr.org/\n",
      "https://www.npr.org/about-npr/186948703/corporate-sponsorship\n"
     ]
    }
   ],
   "source": [
    "for link in soup2.find_all('a'):\n",
    "    print(link.get('href'))"
   ]
  },
  {
   "cell_type": "markdown",
   "id": "62af7000",
   "metadata": {},
   "source": [
    "**When to use BeautifulSoup?**\n",
    "If you’re just starting with webs scarping or with Python, Beautiful Soup is the best choice to go. Moreover, if the documents you’ll be scraping are not structured, Beautiful Soup will be the perfect choice to use.\n",
    "If you’re building a big project, Beautiful Soup will not be the wise option to take. Beautiful Soup projects are not flexible and are difficult to maintain as the project size increases."
   ]
  },
  {
   "cell_type": "code",
   "execution_count": 10,
   "id": "c75fb08e",
   "metadata": {},
   "outputs": [
    {
     "name": "stdout",
     "output_type": "stream",
     "text": [
      "Biden and Democrats Race for Budget Deal This Week as Rifts Remain\n",
      "How 4 Weeks of U.S. Paid Leave Would Compare With the Rest of the World\n",
      "A proposed tax on billionaires is raising a key question: What counts as income?\n",
      "Facebook Wrestles With the Features It Used to Define Social Networking\n",
      "Here are the key takeaways from the Facebook Papers and their fallout.\n",
      "New York City Police Union Sues Over Vaccine Mandate\n",
      "Fired After Endorsing Vaccines, Evangelical Insider Takes a Leadership Role\n",
      "Are vaccine boosters widely needed? Some federal advisers have misgivings.\n",
      "Tracking the Coronavirus ›\n",
      "Sudan’s Military Seizes Power, Casting Democratic Transition Into Chaos\n",
      "Tesla Value Tops $1 Trillion After Hertz Orders 100,000 Cars\n",
      "Business updates: Dave Chappelle responded to his Netflix special controversy with a video clip from his concert.\n",
      "Whose Promised Land? A Journey Into a Divided Israel.\n",
      "Loose and Boxed Ammunition Found at Scene of Alec Baldwin Shooting\n",
      "At Last, a Royal Wedding. But No Trumpets, Just a News Conference.\n",
      "I’m Not a Pilot, but I Just Flew a Helicopter Over California\n",
      "David Sedaris knows what you’ll laugh at when no one is judging.\n",
      "The German leader Angela Merkel’s lack of exuberance has grown magnetic, our critic writes in his review of a new biography.\n",
      "Helen ThompsonThe Next Leader of Europe Will Be No One\n",
      "Margaret RenklThe First Thing We Do, Let’s Kill All the Leaf Blowers\n",
      "Paul KrugmanTax the Rich, Help America’s Children\n",
      "Jessica Calarco‘There’s Almost No Incentive at All to Give Him the Vaccine.’\n",
      "John PomfretThey Trusted the C.I.A. It Was a Mistake.\n",
      "Paul AngeloThere Is a New Kidnapping Capital of the World. Here’s What We Need to Do About It.\n",
      "Binyamin AppelbaumThe Rotten Core of the Republican Party\n",
      "Alec Baldwin and the Gun Tragedy\n",
      "Jay Caspian KangBitcoin Comes of Age\n",
      "Gail Collins and Bret StephensDemocrats Are on the Verge of … Something\n",
      "‘Sway’Why Republican Ken Buck Believes in Antitrust and Doesn’t Believe in the ‘Big Lie’\n",
      "Annelise RilesBien Has a Chance to Go Big and Bold at the Fed\n",
      "Elisabeth RosenthalA $1,775 Doctor’s Visit Cost About $350 in Maryland. Here’s Why.\n",
      "Charles M. BlowBiden, Tepid in the Face of Catastrophe\n",
      "Explore The Great Read\n",
      "Listen to ‘The Daily’\n",
      "Sign Up for the Paul Krugman Newsletter\n",
      "Listen to ‘The Book Review Podcast’\n",
      "Arshile Gorky’s New Art Was Hiding in Plain Sight\n",
      "‘Needle Spiking’ Assault of Women in Britain Stirs Alarm\n",
      "In India, Facebook Grapples With an Amplified Version of Its Problems\n",
      "A ‘Royal’ Wedding in Brooklyn\n",
      "James Michael Tyler, Who Played Gunther on ‘Friends,’ Dies at 59\n",
      "Yes, There Has Been Progress on Climate. No, It’s Not Nearly Enough.\n",
      "Roh Tae-Woo, South Korean Leader as It Moved Toward Democracy, Dies at 88\n",
      "Shooting at Boise Mall Leaves 2 Dead and 5 Injured\n",
      "Jeff Bezos’ Rocket Company Wants to Build a Space Station\n",
      "Biden to Nominate Rosenworcel as F.C.C.’s First Female Leader\n",
      "Another Victim of a 1970s Serial Killer in Chicago Is Identified\n",
      "Egyptian President Ends State of Emergency\n",
      "Australia’s ‘Net Zero’ Emissions Plan Draws Criticism\n",
      "Israeli Court Rules on Custody of Child Who Survived Cable Car Crash\n",
      "Dispatcher Hung Up on Fire Victim Because He Spoke Spanish, Suit Says\n",
      "Is an Ice Cream Binge Bad for the Heart?\n",
      "7 Habits for a Healthy Heart\n",
      "Can a Smartwatch Save Your Life?\n",
      "Can You Miss the Signs of Heart Disease or a Heart Attack?\n",
      "A Low-Carb Diet May Help Your Heart\n",
      "Saul Martinez for The New York Times\n",
      "Mortars, Pestles and the Comfort of a Culinary Ritual\n",
      "Why David Hare Loves Oscar Wilde\n",
      "The King of Dembow Dazzles at Madison Square Garden\n",
      "After 24 Years, a Conductor Returns to the Met Opera\n",
      "Roy Choi’s Braised Short-Rib Stew\n",
      "Fried Catfish and Spaghetti\n",
      "Homemade Cracker Jack\n",
      "Instant Pot Tomato-Braised Chickpeas With Tahini\n",
      "Corn Casserole\n",
      "The Best Food Storage Containers\n",
      "Desk Lamps We Love\n",
      "Get a Wireless Charger and You’ll Never Go Back\n",
      "Learn More About Wirecutter\n",
      "Spelling Bee\n",
      "The Crossword\n",
      "Letter Boxed\n",
      "Tiles\n",
      "Vertex\n"
     ]
    }
   ],
   "source": [
    "import requests\n",
    "from bs4 import BeautifulSoup\n",
    " \n",
    "base_url = 'http://www.nytimes.com'\n",
    "r = requests.get(base_url)\n",
    "soup = BeautifulSoup(r.text)\n",
    " \n",
    "for story_heading in soup.find_all(class_=\"story-wrapper\"): \n",
    "    #print(story_heading)\n",
    "    if story_heading.a: \n",
    "        print(story_heading.a.text.replace(\"\\n\", \" \").strip())\n",
    "    else: \n",
    "        print(story_heading.contents[0].strip())"
   ]
  },
  {
   "cell_type": "code",
   "execution_count": 11,
   "id": "1b1b6858",
   "metadata": {},
   "outputs": [
    {
     "name": "stdout",
     "output_type": "stream",
     "text": [
      "After months battling climate sceptics in his own ranks, Scott Morrison says ‘technology breakthroughs’ will help country meet reductions\n",
      "Criticism of the military mounts as the UN is expected to call an emergency meeting to discuss the crisis\n",
      "Fabindia brand ad taken down after BJP claims use of Urdu was offensive to Hindu majority\n",
      "Groups have entered secondary schools to serve quasi-legal documents and filmed the encounter to post on social media\n",
      "\n",
      "Hwang Dong-hyuk reveals the family catastrophe that inspired his hyper-violent capitalism satire\n",
      "He almost quit, but now the champion jockey is riding high. He discusses his second wind, racing’s poverty problem – and why he hopes his kids won’t enter the sport\n",
      "I knew the pandemic meant long-haul isolation, bringing back terrible teenage memories. But friends rallied round with two-hour calls and freezing park visits\n",
      "AU vaccine deal arranged in part by the White House; New Zealand will announce sweeping vaccine mandates for workers in cafes, bars, hairdressers and gyms\n",
      "Researchers use AI – and witchcraft folklore – to map the coronavirus conspiracy theories that have sprung up\n",
      "Follows attacks on Covid nurses in the country where less than 1% of the population is fully vaccinated\n",
      "The Global Preparedness Monitoring Board is calling for a coherent action plan to counter future health emergencies\n",
      "A Lords amendment sought to stop water companies dumping raw sewage – and 265 Tories voted against it. This faecal matter has become a powerful symbol of modern Britain, writes Zoe Williams\n",
      "The chancellor’s spending plan will promise much, but the result will be disappointment, says Guardian columnist Polly Toynbee\n",
      "Antonio Conte would be open to talks about taking over at Manchester United after it emerged that players lack belief in Ole Gunnar Solskjær\n",
      "Andy Murray dug in to beat world No 10 Hubert Hurkacz in three gruelling sets at the Erste Bank Open in Austria\n",
      "Former players Shane Warne, Brad Haddin and Brett Lee say the all-rounder will make the series more competitive\n",
      "How should the government approach the issue, and how are they willing to change their own lives?\n",
      "Economists have failed to take account of ‘immense risks and potential loss of life’, says author of landmark review\n",
      "Six things the Guardian is doing to confront the climate emergency\n",
      "When anti-racism activist Lowri Davies got a call from a covert officer in Swansea, she played along. But she was recording the conversation – and what she learned sheds new light on how progressive movements are monitored by the state\n",
      "Analysts question if Dublin’s reputation as a leading tech hub could be undermined by new 15% tax rate\n",
      "Chancellor given paperweight as parting gift but she may not be done yet if German coalition talks falter\n",
      "Rule that pass must be presented to access workplaces forces hand of many vaccine-hesitant Italians\n",
      "A fiscal conservative in the job and a new era of debt limitation could spell disaster for EU countries, says professor of history Adam Tooze\n",
      "PM urges firms to reduce use of single-use plastics and dismisses recycling as ‘a red herring’\n",
      "German export expectations fall to lowest level since February; in China, Modern Land misses debt payment, adding to worries about property sector\n",
      "Dozens of vultures descended on Bunn, North Carolina, last year and nothing – not even cannon shot – looks like shifting them\n",
      "The use of our bodies to unlock access to services raises concerns about the trade-off between convenience and privacy\n",
      "She had an album of love songs all set to go – until a breakup made her think again. The star of Odd Future and the Internet tells how she drew inspiration from heartache and hope\n",
      "Haley McGee, James McNicholas and Mo Gilligan talk about the tricky business of turning stage performances into a reading experience\n",
      "Pedigrees are being bred to have a range of unusually coloured fur, including lilac, silver, charcoal and even tiger stripes – as well as a host of health problems\n",
      "From avoiding UV to re-dying faded fabric ‘in a big soup pot’, with a bit of care black clothes can last a lifetime\n",
      "Andy from Glasgow met Becky from Illinois on a Greyhound bus, defending her from the attentions of a crass man in front of them. Ten hours later, they were engaged\n",
      "Zahra Mirzaei pioneered ‘groundbreaking’ maternity services in Kabul, but has been forced to flee. She says she won’t stop fighting for dignified care for Afghanistan’s women and girls\n",
      "Rangi Wickliffe was one of many Māori children repeatedly abused in welfare institutions including the notorious Lake Alice psychiatric hospital\n",
      "Does your internal monologue play out on a television, in an attic, as a bickering Italian couple – or is it entirely, blissfully silent?\n",
      "The long-running series in which readers answer other readers’ questions on subjects ranging from trivial flights of fancy to profound scientific and philosophical concepts\n",
      "We’d like to hear from those living in Australia who have tested positive recently for Covid or are recovering\n",
      "From the joyful to the sad, we would like to hear your stories about a point in time when your world turned on its axis\n",
      "We’d like to hear from social media users about how recent developments have affected them\n",
      "From Don McCullin to Alec Soth and Joy Gregory, photographers pick the image that cast a spell on them – and made them reconsider their own way of doing things\n",
      "A selection of the commended and winning images in the 11 categories of international photo awards on display at the Siena awards festival in Italy\n",
      "The Guardian has partnered with the Alycats, award-winning photographers who devote their time to fighting illegal wildlife hunting and poaching in Africa in support of the Singita Conservation Foundation. The Alycats have curated six prints exclusively for the Guardian Print Shop. As part of our collaboration we will donate 50% of all print sales to support the foundation’s unswerving work. Buy your exclusive print here\n",
      "The Guardian’s picture editors select photo highlights from around the world\n",
      "In Oaș, Romania, the photographer Michal Novotný has been documenting opulent summer weddings where traditional costumes meet the trappings of large-scale modern events\n",
      "Behind the scenes of the new film starring Anya Taylor-Joy and Matt Smith, with photographer Greg Williams\n"
     ]
    }
   ],
   "source": [
    "base_url = 'https://www.theguardian.com/international'\n",
    "r    = requests.get(base_url)\n",
    "soup = BeautifulSoup(r.text)\n",
    "\n",
    "for story_heading in soup.find_all(class_=\"fc-item__standfirst\"): \n",
    "    #print(story_heading)\n",
    "    if story_heading.a: \n",
    "        print(story_heading.a.text.replace(\"\\n\", \" \").strip())\n",
    "    else: \n",
    "        print(story_heading.contents[0].strip())"
   ]
  },
  {
   "cell_type": "markdown",
   "id": "e67f27cb",
   "metadata": {},
   "source": [
    "## Regular Expressions"
   ]
  },
  {
   "cell_type": "markdown",
   "id": "31fecff2",
   "metadata": {},
   "source": [
    "A RegEx, or Regular Expression, is a sequence of characters that forms a search pattern. RegEx can be used to check if a string contains the specified search pattern. Python has a built-in package called re, which can be used to work with Regular Expressions."
   ]
  },
  {
   "cell_type": "markdown",
   "id": "6c513f09",
   "metadata": {},
   "source": [
    "### Why we need Regular Expression\n",
    "\n",
    "Imagine you have a string object s. Now suppose you need to write Python code to find out whether s contains the substring '123'. There are at least a couple ways to do this. You could use the in operator:"
   ]
  },
  {
   "cell_type": "code",
   "execution_count": 12,
   "id": "2a4eb6da",
   "metadata": {},
   "outputs": [
    {
     "data": {
      "text/plain": [
       "True"
      ]
     },
     "execution_count": 12,
     "metadata": {},
     "output_type": "execute_result"
    }
   ],
   "source": [
    "s = 'foo123bar'\n",
    "'123' in s"
   ]
  },
  {
   "cell_type": "markdown",
   "id": "d8b4c35e",
   "metadata": {},
   "source": [
    "If you want to know not only whether '123' exists in s but also where it exists, then you can use .find() or .index(). Each of these returns the character position within s where the substring resides:"
   ]
  },
  {
   "cell_type": "code",
   "execution_count": 13,
   "id": "b5c47ca0",
   "metadata": {},
   "outputs": [
    {
     "data": {
      "text/plain": [
       "3"
      ]
     },
     "execution_count": 13,
     "metadata": {},
     "output_type": "execute_result"
    }
   ],
   "source": [
    "s.find('123')"
   ]
  },
  {
   "cell_type": "code",
   "execution_count": 14,
   "id": "13d419ef",
   "metadata": {},
   "outputs": [
    {
     "data": {
      "text/plain": [
       "3"
      ]
     },
     "execution_count": 14,
     "metadata": {},
     "output_type": "execute_result"
    }
   ],
   "source": [
    "s.index('123')"
   ]
  },
  {
   "cell_type": "markdown",
   "id": "c8b0afc7",
   "metadata": {},
   "source": [
    "In these examples, the matching is done by a straightforward character-by-character comparison. That will get the job done in many cases. But sometimes, the problem is more complicated than that.\n",
    "\n",
    "For example, rather than searching for a fixed substring like '123', suppose you wanted to determine whether a string contains any three consecutive decimal digit characters, as in the strings 'foo123bar', 'foo456bar', '234baz', and 'qux678'.\n",
    "\n",
    "Strict character comparisons won’t cut it here. This is where regexes in Python come to the rescue."
   ]
  },
  {
   "cell_type": "markdown",
   "id": "638138c9",
   "metadata": {},
   "source": [
    "### The Re Module\n",
    "\n",
    "Regex functionality in Python resides in a module named re. \n",
    "\n",
    "For now, you’ll focus predominantly on one function, `re.search()`.\n",
    "\n",
    "`re.search(\\<regex>, \\<string>)`\n",
    "\n",
    "This function search looking for the first location where the pattern \\<regex> matches. If a match is found, then `re.search()` returns a match object. Otherwise, it returns `None`."
   ]
  },
  {
   "cell_type": "code",
   "execution_count": 15,
   "id": "0a3a8c98",
   "metadata": {},
   "outputs": [
    {
     "data": {
      "text/plain": [
       "<re.Match object; span=(3, 6), match='123'>"
      ]
     },
     "execution_count": 15,
     "metadata": {},
     "output_type": "execute_result"
    }
   ],
   "source": [
    "import re\n",
    "\n",
    "re.search('123', s)"
   ]
  },
  {
   "cell_type": "markdown",
   "id": "734b56f0",
   "metadata": {},
   "source": [
    "For the moment, the important point is that re.search() did in fact return a match object rather than None. That tells you that it found a match. In other words, the specified \\<regex> pattern 123 is present in s. The interpreter displays the match object as \\<_sre.SRE_Match object; span=(3, 6), match='123'>. \n",
    "\n",
    "This contains some useful information:\n",
    "\n",
    "- span=(3, 6) indicates the portion of <string> in which the match was found. In this example, the match starts at character position 3 and extends up to but not including position 6.\n",
    "    \n",
    "- match='123' indicates which characters from \\<string> matched.    "
   ]
  },
  {
   "cell_type": "markdown",
   "id": "fa29bb4f",
   "metadata": {},
   "source": [
    "### Python Regex Metacharacters\n",
    "\n",
    "The real power of regex matching in Python emerges when \\<regex> contains special characters called metacharacters. These have a unique meaning to the regex matching engine and vastly enhance the capability of the search. Consider again the problem of how to determine whether a string contains any three consecutive decimal digit characters.\n",
    "\n",
    "In a regex, a set of characters specified in square brackets ([]) makes up a character class. This metacharacter sequence matches any single character that is in the class, as demonstrated in the following example:"
   ]
  },
  {
   "cell_type": "code",
   "execution_count": 16,
   "id": "6c38d9cd",
   "metadata": {},
   "outputs": [
    {
     "name": "stdout",
     "output_type": "stream",
     "text": [
      "gdash5622hjj\n",
      "654fdhaskjf\n"
     ]
    }
   ],
   "source": [
    "#\n",
    "# [0-9] matches any single decimal digit character—any character between '0' and '9', inclusive. \n",
    "# The full expression [0-9][0-9][0-9] matches any sequence of three decimal digit characters.\n",
    "# On the other hand, a string that doesn’t contain three consecutive digits won’t match!\n",
    "#\n",
    "pattern = '[0-9][0-9][0-9]'\n",
    "\n",
    "mylist = ['gdash5622hjj', 'dafasfas', '654fdhaskjf', 'ashjdfuqo','67yahd', '9jhdksaf', '42hddhdh67','udyakh']\n",
    "for l in mylist:\n",
    "    if re.search(pattern, l):\n",
    "        print(l)"
   ]
  },
  {
   "cell_type": "markdown",
   "id": "f52137f2",
   "metadata": {},
   "source": [
    "With regexes in Python, you can identify patterns in a string that you wouldn’t be able to find with the in operator or with string methods.\n",
    "\n",
    "Take a look at another regex metacharacter. The dot (.) metacharacter matches any character except a newline, so it functions like a wildcard:"
   ]
  },
  {
   "cell_type": "code",
   "execution_count": 17,
   "id": "b8549f7c",
   "metadata": {},
   "outputs": [
    {
     "name": "stdout",
     "output_type": "stream",
     "text": [
      "gdash5622hjj\n",
      "ashjdfuqo\n",
      "udyakh\n"
     ]
    }
   ],
   "source": [
    "pattern = 'a.h'\n",
    "for l in mylist:\n",
    "    if re.search(pattern, l):\n",
    "        print(l)"
   ]
  },
  {
   "cell_type": "markdown",
   "id": "c4c403e6",
   "metadata": {},
   "source": [
    "Here, you’re essentially asking, *“Does s contain a 'a', then any character (except a newline), then a 'h'?”*.\n",
    "\n",
    "A character class metacharacter sequence will match any single character contained in the class. You can enumerate the characters individually like this:"
   ]
  },
  {
   "cell_type": "code",
   "execution_count": 18,
   "id": "1b534aa3",
   "metadata": {},
   "outputs": [
    {
     "name": "stdout",
     "output_type": "stream",
     "text": [
      "gdas askjd Nr59 dsafh\n",
      "Nr47 adfd jads\n"
     ]
    }
   ],
   "source": [
    "pattern = 'Nr[0-9]'\n",
    "\n",
    "mylist = ['gdas askjd Nr59 dsafh', 'dafasfas', 'Nr47 adfd jads', 'dkajòqwo idf Nr 78','67yahd', '9jhdksaf', '42hddhdh67','udyakh']\n",
    "for l in mylist:\n",
    "    if re.search(pattern, l):\n",
    "        print(l)"
   ]
  },
  {
   "cell_type": "markdown",
   "id": "c6c0a0a6",
   "metadata": {},
   "source": [
    "You can complement a character class by specifying ^ as the first character, in which case it matches any character that isn’t in the set. In the following example, [^0-9] matches any character that isn’t a digit:"
   ]
  },
  {
   "cell_type": "code",
   "execution_count": 19,
   "id": "e2139bad",
   "metadata": {},
   "outputs": [
    {
     "name": "stdout",
     "output_type": "stream",
     "text": [
      "All in all, the EU economy is forecast to grow by 4.6% in and to strengthen to around 5.3% in 4.2% and 3.2% respectively, in the euro area. "
     ]
    }
   ],
   "source": [
    "pattern = '[^0-9].'\n",
    "\n",
    "words = 'All in all, the EU economy is forecast to grow by 4.6% in 2021 and \\\n",
    "         to strengthen to around 5.3% in 2022, 4.2% and 3.2% respectively, in the euro area.'\n",
    "\n",
    "#words = words.replace('.','').replace(',','')\n",
    "\n",
    "mylist = words.split()\n",
    "for l in mylist:\n",
    "    if re.search(pattern, l):\n",
    "        print(l, end= ' ')"
   ]
  },
  {
   "cell_type": "code",
   "execution_count": 20,
   "id": "1b88b6ac",
   "metadata": {},
   "outputs": [
    {
     "name": "stdout",
     "output_type": "stream",
     "text": [
      "['A', 'l', 'l', 'i', 'n', 'a', 'l', 'l', ',', 't', 'h', 'e', 'E', 'U', 'e', 'c', 'o', 'n', 'o', 'm', 'y', 'i', 's', 'f', 'o', 'r', 'e', 'c', 'a', 's', 't', 't', 'o', 'g', 'r', 'o', 'w', 'b', 'y', '4', '.', '6', '%', 'i', 'n', '2', '0', '2', '1', 'a', 'n', 'd', 't', 'o', 's', 't', 'r', 'e', 'n', 'g', 't', 'h', 'e', 'n', 't', 'o', 'a', 'r', 'o', 'u', 'n', 'd', '5', '.', '3', '%', 'i', 'n', '2', '0', '2', '2', ',', '4', '.', '2', '%', 'a', 'n', 'd', '3', '.', '2', '%', 'r', 'e', 's', 'p', 'e', 'c', 't', 'i', 'v', 'e', 'l', 'y', ',', 'i', 'n', 't', 'h', 'e', 'e', 'u', 'r', 'o', 'a', 'r', 'e', 'a', '.']\n",
      "Allinall,theEUeconomyisforecasttogrowby4.6%in2021andtostrengthentoaround5.3%in2022,4.2%and3.2%respectively,intheeuroarea.\n"
     ]
    }
   ],
   "source": [
    "# match all non-blanck characters\n",
    "y = re.findall('[^ ]',words)\n",
    "print(y)\n",
    "# a simple way to remove all blanck space in a string\n",
    "print(''.join(y))"
   ]
  },
  {
   "cell_type": "code",
   "execution_count": 21,
   "id": "06713458",
   "metadata": {},
   "outputs": [],
   "source": [
    "wordlist = [w for w in nltk.corpus.words.words('en') if w.islower()]"
   ]
  },
  {
   "cell_type": "code",
   "execution_count": 22,
   "id": "804a03e0",
   "metadata": {},
   "outputs": [
    {
     "data": {
      "text/plain": [
       "['zuccarino',\n",
       " 'zucchetto',\n",
       " 'zucchini',\n",
       " 'zudda',\n",
       " 'zugtierlast',\n",
       " 'zugtierlaster',\n",
       " 'zuisin',\n",
       " 'zumatic',\n",
       " 'zumbooruk',\n",
       " 'zunyite',\n",
       " 'zupanate',\n",
       " 'zuurveldt',\n",
       " 'zuza']"
      ]
     },
     "execution_count": 22,
     "metadata": {},
     "output_type": "execute_result"
    }
   ],
   "source": [
    "[w for w in wordlist if re.search('^zu', w)]"
   ]
  },
  {
   "cell_type": "markdown",
   "id": "075d3383",
   "metadata": {},
   "source": [
    "Let's find words ending with **zz** using the regular expressio"
   ]
  },
  {
   "cell_type": "code",
   "execution_count": 23,
   "id": "9fd16ff8",
   "metadata": {},
   "outputs": [
    {
     "data": {
      "text/plain": [
       "['abuzz',\n",
       " 'bejazz',\n",
       " 'bizz',\n",
       " 'blizz',\n",
       " 'brizz',\n",
       " 'bruzz',\n",
       " 'buzz',\n",
       " 'fizz',\n",
       " 'frizz',\n",
       " 'fuzz',\n",
       " 'gizz',\n",
       " 'hizz',\n",
       " 'humbuzz',\n",
       " 'huzz',\n",
       " 'jazz',\n",
       " 'muzz',\n",
       " 'outbuzz',\n",
       " 'outjazz',\n",
       " 'razz',\n",
       " 'sizz',\n",
       " 'unfrizz',\n",
       " 'zizz']"
      ]
     },
     "execution_count": 23,
     "metadata": {},
     "output_type": "execute_result"
    }
   ],
   "source": [
    "[w for w in wordlist if re.search('zz$', w)]"
   ]
  },
  {
   "cell_type": "code",
   "execution_count": 24,
   "id": "f556568c",
   "metadata": {},
   "outputs": [
    {
     "data": {
      "text/plain": [
       "['appearanced',\n",
       " 'appellatived',\n",
       " 'appendaged',\n",
       " 'appendiculated',\n",
       " 'applied',\n",
       " 'appressed']"
      ]
     },
     "execution_count": 24,
     "metadata": {},
     "output_type": "execute_result"
    }
   ],
   "source": [
    "[w for w in wordlist if re.search('^app.*ed$', w)]"
   ]
  },
  {
   "cell_type": "code",
   "execution_count": 25,
   "id": "008f3cea",
   "metadata": {},
   "outputs": [
    {
     "data": {
      "text/plain": [
       "['a',\n",
       " 'aaaaaaaaaaaaaaaaa',\n",
       " 'aaahhhh',\n",
       " 'ah',\n",
       " 'ahah',\n",
       " 'ahahah',\n",
       " 'ahh',\n",
       " 'ahhahahaha',\n",
       " 'ahhh',\n",
       " 'ahhhh',\n",
       " 'ahhhhhh',\n",
       " 'ahhhhhhhhhhhhhh',\n",
       " 'h',\n",
       " 'ha',\n",
       " 'haaa',\n",
       " 'hah',\n",
       " 'haha',\n",
       " 'hahaaa',\n",
       " 'hahah',\n",
       " 'hahaha',\n",
       " 'hahahaa',\n",
       " 'hahahah',\n",
       " 'hahahaha',\n",
       " 'hahahahaaa',\n",
       " 'hahahahahaha',\n",
       " 'hahahahahahaha',\n",
       " 'hahahahahahahahahahahahahahahaha',\n",
       " 'hahahhahah',\n",
       " 'hahhahahaha']"
      ]
     },
     "execution_count": 25,
     "metadata": {},
     "output_type": "execute_result"
    }
   ],
   "source": [
    "chat_words = sorted(set(w for w in nltk.corpus.nps_chat.words()))\n",
    "[w for w in chat_words if re.search('^[ha]+$', w)]"
   ]
  },
  {
   "cell_type": "markdown",
   "id": "cb8afe06",
   "metadata": {},
   "source": [
    "It should be clear that + simply means \"one or more instances of the preceding item\", which could be an individual character like m, a set like [fed] or a range like [d-f]. Now let's replace + with *, which means \"zero or more instances of the preceding item\"."
   ]
  },
  {
   "cell_type": "markdown",
   "id": "87d1dab4",
   "metadata": {},
   "source": [
    "### Further Examples"
   ]
  },
  {
   "cell_type": "code",
   "execution_count": 26,
   "id": "d1c1f949",
   "metadata": {},
   "outputs": [],
   "source": [
    "text=['X-Sieve: CMU Sieve 2.3', 'X-DSPAM-Result: Innocent', 'X-Plane is behind schedule: two weeks']"
   ]
  },
  {
   "cell_type": "code",
   "execution_count": 27,
   "id": "90df62dc",
   "metadata": {},
   "outputs": [
    {
     "name": "stdout",
     "output_type": "stream",
     "text": [
      "['X-Sieve:']\n",
      "['X-DSPAM-Result:']\n",
      "['X-Plane is behind schedule:']\n"
     ]
    }
   ],
   "source": [
    "regex = r'^X.*:'\n",
    "for t in text:\n",
    "    y = re.findall(regex, t)\n",
    "    print(y)"
   ]
  },
  {
   "cell_type": "code",
   "execution_count": 28,
   "id": "b18948d7",
   "metadata": {},
   "outputs": [
    {
     "name": "stdout",
     "output_type": "stream",
     "text": [
      "['X-Sieve:']\n",
      "['X-DSPAM-Result:']\n",
      "[]\n"
     ]
    }
   ],
   "source": [
    "regex = r'^X-\\S+:'\n",
    "for t in text:\n",
    "    y = re.findall(regex, t)\n",
    "    print(y)"
   ]
  },
  {
   "cell_type": "markdown",
   "id": "71112e11",
   "metadata": {},
   "source": [
    "Greedy and Lazy Matching"
   ]
  },
  {
   "cell_type": "code",
   "execution_count": 11,
   "id": "5b1517b7",
   "metadata": {},
   "outputs": [
    {
     "name": "stdout",
     "output_type": "stream",
     "text": [
      "['From: Using the :']\n"
     ]
    }
   ],
   "source": [
    "# greedy\n",
    "x = 'From: Using the : character'\n",
    "y = re.findall('^F.+:', x)\n",
    "print(y)"
   ]
  },
  {
   "cell_type": "code",
   "execution_count": 12,
   "id": "ded7015d",
   "metadata": {},
   "outputs": [
    {
     "name": "stdout",
     "output_type": "stream",
     "text": [
      "['From:']\n"
     ]
    }
   ],
   "source": [
    "# lazy (note the question mark before ':')\n",
    "x = 'From: Using the : character'\n",
    "y = re.findall('^F.+?:', x)\n",
    "print(y)"
   ]
  },
  {
   "cell_type": "code",
   "execution_count": 7,
   "id": "e6a7960a",
   "metadata": {},
   "outputs": [
    {
     "name": "stdout",
     "output_type": "stream",
     "text": [
      "['stephen.marquard@uct.ac.za,', 'giovanni.dellalunga@unibo.it']\n"
     ]
    }
   ],
   "source": [
    "text = \"From stephen.marquard@uct.ac.za, giovanni.dellalunga@unibo.it Sat Jan  5 09:14:16 2008\"\n",
    "\n",
    "y = re.findall(r'\\S+@\\S+',text)\n",
    "print(y)"
   ]
  },
  {
   "cell_type": "code",
   "execution_count": 9,
   "id": "9d013923",
   "metadata": {},
   "outputs": [
    {
     "name": "stdout",
     "output_type": "stream",
     "text": [
      "['stephen.marquard@uct.ac.za,']\n"
     ]
    }
   ],
   "source": [
    "y = re.findall(r'^From (\\S+@\\S+)', text)\n",
    "print(y)"
   ]
  },
  {
   "cell_type": "code",
   "execution_count": 20,
   "id": "739cbaf4",
   "metadata": {},
   "outputs": [
    {
     "name": "stdout",
     "output_type": "stream",
     "text": [
      "['unibo.it']\n"
     ]
    }
   ],
   "source": [
    "text  = \"From giovanni.dellalunga@unibo.it Sat Jan  5 09:14:16 2008\"\n",
    "regex = r'^From .*@([^ ]*)'\n",
    "\n",
    "y = re.findall(regex, text)\n",
    "print(y)"
   ]
  },
  {
   "cell_type": "markdown",
   "id": "249ad0a7",
   "metadata": {},
   "source": [
    "## References and Credits"
   ]
  },
  {
   "cell_type": "markdown",
   "id": "f43c4a90",
   "metadata": {},
   "source": [
    "***Bird S. et al.***, \"*Natural Language Processing with Python*\" O'Reilly (2009)"
   ]
  },
  {
   "cell_type": "markdown",
   "id": "40ec1769",
   "metadata": {},
   "source": [
    "***Bengfort B. et al.***, \"*Applied Text Analysis with Python*\" O'Reilly (2018)"
   ]
  }
 ],
 "metadata": {
  "kernelspec": {
   "display_name": "Python 3",
   "language": "python",
   "name": "python3"
  },
  "language_info": {
   "codemirror_mode": {
    "name": "ipython",
    "version": 3
   },
   "file_extension": ".py",
   "mimetype": "text/x-python",
   "name": "python",
   "nbconvert_exporter": "python",
   "pygments_lexer": "ipython3",
   "version": "3.7.4"
  },
  "toc": {
   "base_numbering": "4",
   "nav_menu": {},
   "number_sections": true,
   "sideBar": true,
   "skip_h1_title": false,
   "title_cell": "Table of Contents",
   "title_sidebar": "Contents",
   "toc_cell": false,
   "toc_position": {},
   "toc_section_display": true,
   "toc_window_display": false
  }
 },
 "nbformat": 4,
 "nbformat_minor": 5
}
