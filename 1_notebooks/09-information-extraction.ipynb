{
 "cells": [
  {
   "cell_type": "markdown",
   "id": "58f167fd",
   "metadata": {},
   "source": [
    "# Information Extraction"
   ]
  },
  {
   "cell_type": "markdown",
   "id": "45eb038e",
   "metadata": {},
   "source": [
    "## Unstructured Data in Banking and Finance"
   ]
  },
  {
   "cell_type": "markdown",
   "id": "f664d3b1",
   "metadata": {},
   "source": [
    "Information comes in many shapes and sizes. One important form is structured data, where there is a regular and predictable organization of entities and relationships. For example, we might be interested in the relation between companies and locations. Given a particular company, we would like to be able to identify the locations where it does business; conversely, given a location, we would like to discover which companies do business in that location. If our data is in tabular form, such as the example, then answering these queries is straightforward. Things are more tricky if we try to get similar information out of text. "
   ]
  },
  {
   "cell_type": "markdown",
   "id": "a3c941b4",
   "metadata": {},
   "source": [
    "### An Example: Alternative Credit Data\n",
    "\n",
    "Alternative credit data, sometimes simply identified with so-called \"big data\", are all those data that are not directly related to a customer's credit conduct. Alternative customer data can be obtained from a range of non-traditional data sources (e.g. digital platforms capable of providing information on consumer activity for credit risk assessment) and, in general, is a combination of information collected from multiple sources, including payment history, data extracted from social media, information related to online purchases. Below is a non-exhaustive list of some data sources that can be used in the process of assigning the rating to a customer:\n",
    "\n",
    "- **Transactional Data**. This is typically data on how customers use their credit or debit cards. It may not seem like an \"alternative\" - most lenders already have this data, often manipulated into monthly summaries - but it is often not used to extract maximum predictive value. They can be used to generate a wide range of predictive characteristics (features) such as, for example, the 'Ratio between total balance and total spending in the last X weeks' or Spending ratios over different time horizons or you could think of characteristics based on the number , frequency and value of transactions for different types of purchases and / or resellers. Processing can take a long time because the data itself is generally not very clean.\n",
    "\n",
    "- **Telecommunications data and other utilities**. This data is basically credit history data, but it is alternative because it doesn't actually appear in most credit reports. FICO extracted this data for the FICO® Score XD in the United States.\n",
    "\n",
    "- **Data extracted from social profiles**. It is possible to extract data from Facebook, LinkedIn, Twitter, Instagram, Snapchat or other social media sites, but few lenders would like to challenge the regulatory hurdles posed by recent privacy laws. In theory, these obstacles could be circumvented simply by focusing not so much on the actual data but on the metadata, for example the number of posts and their frequency or the extent of the social network to which they belong, however at the moment there is a real risk that this would still raise privacy concerns. Furthermore, it should not be forgotten that this data has a strong bias as it is evidently possible that the consumer manipulates the underlying information.\n",
    "\n",
    "- **Data obtained through survey / questionnaire**. An innovative new way of assessing the credit risk of someone with little or no credit history is through psychometrics. The leader in this field, EFL, bases its scores on 10 years of research at Harvard. FICO has partnered with EFL to measure people's ratings in markets around the world."
   ]
  },
  {
   "cell_type": "markdown",
   "id": "547dcc93",
   "metadata": {},
   "source": [
    "### Structured and Unstructured Data"
   ]
  },
  {
   "cell_type": "markdown",
   "id": "48733e21",
   "metadata": {},
   "source": [
    "#### Structured and semi-structured data\n",
    "\n",
    "Structured data are those that comply with a predetermined set of rules or for which it is possible to define the type (date, name, number, characters, address) and the reciprocal relationships. Structured data depends on a schema and can be represented by rows and columns and stored in a central repository, typically a relational database, from which it can be retrieved separately or in a variety of combinations for processing and analysis.\n",
    "\n",
    "In addition to structured data there are also semi-structured ones, which contain semantic tags without conforming to the typical structure associated with relational databases. It is schema-less data, not suitable for a relational database, which is represented by labels, graphs and trees. Examples of semi-structured data are email, HTML, XML files, mainly used to transmit data between a server and a web application."
   ]
  },
  {
   "cell_type": "markdown",
   "id": "57d75aa9",
   "metadata": {},
   "source": [
    "#### Unstructured data\n",
    "\n",
    "Unstructured data does not have a predefined template and cannot be organized into rows and columns. Examples of unstructured data are images, audio, video, email, spreadsheets, and objects stored as files. Unstructured data can, however, have very different origins: extracted from a human language with NLP (Natural Language Processing), acquired through sensors, extracted from social media, acquired from NoSQL databases. This feature makes it difficult to understand and its placement ambiguous.\n",
    "\n",
    "Since most of the information is unstructured, it is understandable why, especially in \"data driven\" companies, the analysis of unstructured data has become essential for identifying purchasing habits, intercepting new trends, guiding the commercial offer and providing indications on how to improve the performance of a specific service or of the company as a whole.\n"
   ]
  },
  {
   "cell_type": "markdown",
   "id": "2caae65a",
   "metadata": {},
   "source": [
    "### Information Extraction\n",
    "\n",
    "In order to act on unstructured data, ML models have to perform one of the crucial processes called **Information Extraction(IE)**. Information Extraction is the process of retrieving key information intertwined within the unstructured data. In other words, **extracting structured data from the unstructured data**. Unfortunately, when it comes to mining these sources for usable data, it’s not quite so quick and easy. Sure, you can search documents for specific text, but what does that really tell you? Beyond word or phrase frequency, not much else. For these reasons you have to resort to sophisticated techniques of Text Analysis which employ a variety of methodologies to process the text, one of the most important of these being **Natural Language Processing (NLP)** that we have seen in the previous notebooks.\n",
    "\n",
    "The picture below shows the architecture for a simple information extraction system. \n",
    "\n",
    "It begins by processing a document using several of the procedures discussed previously: first, the raw text of the document is split into sentences using a sentence segmenter, and each sentence is further subdivided into words using a tokenizer. Next, each sentence is tagged with part-of-speech tags, which will prove very helpful in the next step: **named entity detection**. In this step, we search for mentions of potentially interesting entities in each sentence. Finally, we use relation detection to search for likely relations between different entities in the text."
   ]
  },
  {
   "cell_type": "markdown",
   "id": "bde3678c",
   "metadata": {},
   "source": [
    "<!--\n",
    "<div>\n",
    "<img src=\"../07-pictures/09_information_extraction_pic_3.png\" width=\"500\"/>\n",
    "</div>\n",
    "-->\n",
    "![pic](../07-pictures/09_information_extraction_pic_3.png)\n"
   ]
  },
  {
   "cell_type": "markdown",
   "id": "e813f9c1",
   "metadata": {},
   "source": [
    "*source: Bird S. et al. \"Natural Language Processing with Python\" O'Reilly (2009) on line edition Chapter 7*"
   ]
  },
  {
   "cell_type": "markdown",
   "id": "a5b2f216",
   "metadata": {},
   "source": [
    "## Named Entity Recognition"
   ]
  },
  {
   "cell_type": "markdown",
   "id": "0d5bd815",
   "metadata": {},
   "source": [
    "Named Entity Recognition (NER) is a natural language processing technique that uses machine learning to identify named entities in text data and classifies them into one or more predetermined categories. Entities can be names of people, organizations, locations, topics, interests, and more. Named Entity Recognition is used to automatically categorize news articles, customer feedback, customer support tickets, social media posts, and resumes.\n",
    "\n",
    "Natural language-based named entity recognition enables you to effectively search unstructured data, to improve process efficiency, and create better personalized customer experiences."
   ]
  },
  {
   "cell_type": "markdown",
   "id": "6fade934",
   "metadata": {},
   "source": [
    "The goal of a named entity recognition (NER) system is to identify all textual mentions of the named entities. This can be broken down into two sub-tasks: identifying the boundaries of the NE, and identifying its type. \n",
    "\n",
    "How do we go about identifying named entities? One option would be to look up each word in an appropriate list of names. For example, in the case of locations, we could use a gazetteer, or geographical dictionary. However, doing this blindly runs into problems because many named entity terms are ambiguous. Thus **May** and **North** are likely to be parts of named entities for **DATE** and **LOCATION**, respectively, but could both be part of a PERSON; conversely **Christian Dior** looks like a **PERSON** but is more likely to be of type **ORGANIZATION**. A term like Yankee will be ordinary modifier in some contexts, but will be marked as an entity of type ORGANIZATION in the phrase Yankee infielders.\n",
    "\n",
    "Further challenges are posed by multi-word names like **Stanford University**, and by names that contain other names such as Cecil H. Green Library and Escondido Village Conference Service Center. In named entity recognition, therefore, we need to be able to identify the beginning and end of multi-token sequences."
   ]
  },
  {
   "cell_type": "markdown",
   "id": "c16f57ee",
   "metadata": {},
   "source": [
    "## Example 1 - Reading the Newspaper"
   ]
  },
  {
   "cell_type": "markdown",
   "id": "8d552223",
   "metadata": {},
   "source": [
    "(See ***Example 1*** in Notebook ***05-natural-language-processing***)"
   ]
  },
  {
   "cell_type": "markdown",
   "id": "936c4754",
   "metadata": {},
   "source": [
    "Goal : Finding People and Organizations Cited in a Newspaper Article. \n",
    "\n",
    "Python libraries used: \n",
    "- nltk; \n",
    "- spaCy; \n",
    "- Stanford NER."
   ]
  },
  {
   "cell_type": "markdown",
   "id": "5f698f6d",
   "metadata": {},
   "source": [
    "#### Using NLTK"
   ]
  },
  {
   "cell_type": "code",
   "execution_count": 1,
   "id": "60f335d1",
   "metadata": {},
   "outputs": [
    {
     "name": "stdout",
     "output_type": "stream",
     "text": [
      "Democrats took exceedingly narrow control of the Senate on Wednesday after winning both runoff elections in Georgia, granting them control of Congress and the White House for the first time since 2011. Democrat Jon Ossoff defeated Republican David Perdue, according to The Associated Press, making him the youngest member of the U.S. Senate and the first Jewish senator from Georgia. Earlier Raphael Warnock, a pastor from Atlanta, defeated GOP Sen. Kelly Loeffler after a bitter campaign. Warnock becomes the first Black Democrat elected to the Senate from a Southern state.The Senate will now be split 50-50 between the two parties, giving Vice President-elect Kamala Harris the tiebreaking vote.\n"
     ]
    }
   ],
   "source": [
    "import nltk\n",
    "\n",
    "article = \"Democrats took exceedingly narrow control of the Senate on Wednesday after winning both runoff elections in Georgia, granting them control of Congress and the White House for the first time since 2011. Democrat Jon Ossoff defeated Republican David Perdue, according to The Associated Press, making him the youngest member of the U.S. Senate and the first Jewish senator from Georgia. Earlier Raphael Warnock, a pastor from Atlanta, defeated GOP Sen. Kelly Loeffler after a bitter campaign. Warnock becomes the first Black Democrat elected to the Senate from a Southern state.The Senate will now be split 50-50 between the two parties, giving Vice President-elect Kamala Harris the tiebreaking vote.\"\n",
    "print(article)"
   ]
  },
  {
   "cell_type": "markdown",
   "id": "3f95450e",
   "metadata": {},
   "source": [
    "NLTK works very well with Stanford’s efficient NER implementation, which is a Java implementation of a NER system. This comes with well-designed function extractors for recognizing named entities and many options for defining function extractors, especially for the three classes (“person”, “organization”, “location”). \n",
    "\n",
    "We then import the tools to use the system produced by [Stanford NLP Group](https://nlp.stanford.edu/software/)  and see the result produced in output. Stanford NER is a Java implementation of a Named Entity Recognizer. Named Entity Recognition (NER) labels sequences of words in a text which are the names of things, such as person and company names, or gene and protein names. It comes with well-engineered feature extractors for Named Entity Recognition, and many options for defining feature extractors. Included with the download are good named entity recognizers for English, particularly for the 3 classes (PERSON, ORGANIZATION, LOCATION). The theory behind how this library works is quite complicated and we won't go into it further in these introductory notes. For those of you interested in the theory at this [link](https://nlp.stanford.edu/software/CRF-NER.html) you will find all the references as well as the instructions to download and install the java software."
   ]
  },
  {
   "cell_type": "code",
   "execution_count": 2,
   "id": "f43ee952",
   "metadata": {},
   "outputs": [],
   "source": [
    "from nltk.tag import StanfordNERTagger\n",
    "# In order to make the following code work you need to install java sdk 8.0+ on your machine and make sure that \n",
    "# the path of the java executable is saved in the JAVAHOME environment variable\n",
    "stanford_ner_tagger = StanfordNERTagger('./stanford-ner-2020-11-17/' + 'classifiers/english.muc.7class.distsim.crf.ser.gz',\n",
    "                                        './stanford-ner-2020-11-17/' + 'stanford-ner-4.2.0.jar')"
   ]
  },
  {
   "cell_type": "code",
   "execution_count": 3,
   "id": "19f26f34",
   "metadata": {},
   "outputs": [],
   "source": [
    "results = stanford_ner_tagger.tag(article.split())"
   ]
  },
  {
   "cell_type": "code",
   "execution_count": 4,
   "id": "918be8ff",
   "metadata": {},
   "outputs": [
    {
     "name": "stdout",
     "output_type": "stream",
     "text": [
      "Original article: Democrats took exceedingly narrow control of the Senate on Wednesday after winning both runoff elections in Georgia, granting them control of Congress and the White House for the first time since 2011. Democrat Jon Ossoff defeated Republican David Perdue, according to The Associated Press, making him the youngest member of the U.S. Senate and the first Jewish senator from Georgia. Earlier Raphael Warnock, a pastor from Atlanta, defeated GOP Sen. Kelly Loeffler after a bitter campaign. Warnock becomes the first Black Democrat elected to the Senate from a Southern state.The Senate will now be split 50-50 between the two parties, giving Vice President-elect Kamala Harris the tiebreaking vote. \n",
      "\n",
      "ER Type : ORGANIZATION, Value : Senate\n",
      "ER Type : DATE, Value : Wednesday\n",
      "ER Type : ORGANIZATION, Value : Congress\n",
      "ER Type : ORGANIZATION, Value : White\n",
      "ER Type : ORGANIZATION, Value : House\n",
      "ER Type : PERSON, Value : Jon\n",
      "ER Type : PERSON, Value : Ossoff\n",
      "ER Type : PERSON, Value : David\n",
      "ER Type : PERSON, Value : Perdue,\n",
      "ER Type : ORGANIZATION, Value : U.S.\n",
      "ER Type : ORGANIZATION, Value : Senate\n",
      "ER Type : ORGANIZATION, Value : Georgia.\n",
      "ER Type : ORGANIZATION, Value : Earlier\n",
      "ER Type : ORGANIZATION, Value : Raphael\n",
      "ER Type : ORGANIZATION, Value : Warnock,\n",
      "ER Type : PERSON, Value : Kelly\n",
      "ER Type : PERSON, Value : Loeffler\n",
      "ER Type : PERSON, Value : Warnock\n",
      "ER Type : ORGANIZATION, Value : Senate\n",
      "ER Type : ORGANIZATION, Value : Southern\n",
      "ER Type : ORGANIZATION, Value : state.The\n",
      "ER Type : ORGANIZATION, Value : Senate\n",
      "ER Type : PERSON, Value : Kamala\n",
      "ER Type : PERSON, Value : Harris\n"
     ]
    }
   ],
   "source": [
    "print('Original article: %s \\n' % (article))\n",
    "for result in results:\n",
    "    value = result[0]\n",
    "    tag   = result[1]\n",
    "    if tag != 'O':\n",
    "        print('ER Type : %s, Value : %s' % (tag, value))"
   ]
  },
  {
   "cell_type": "markdown",
   "id": "b1575609",
   "metadata": {},
   "source": [
    "#### Using spaCy"
   ]
  },
  {
   "cell_type": "markdown",
   "id": "24dfa034",
   "metadata": {},
   "source": [
    "We can also try to perform the same process with the library, spaCy, which allows the support of a greater number of types of entities, such as person, nationality, buildings, events and so on. Let's modify the code as follows."
   ]
  },
  {
   "cell_type": "code",
   "execution_count": 5,
   "id": "20f61a7e",
   "metadata": {},
   "outputs": [],
   "source": [
    "import spacy"
   ]
  },
  {
   "cell_type": "markdown",
   "id": "cdfe135a",
   "metadata": {},
   "source": [
    "First of all we have to download and install a trained pipeline (in this case `en_core_web_sm`), you can load it via spacy.load. This will return a Language object containing all components and data needed to process text. We call it `spacy_nlp`. Calling the nlp object on a string of text will return a processed Doc. In particular, When you call `spacy_nlp` on a text, spaCy first tokenizes the text to produce a Doc object. The Doc is then processed in several different steps – this is also referred to as the processing pipeline. The pipeline used by the trained pipelines typically include a tagger, a lemmatizer, a parser and an entity recognizer. Each pipeline component returns the processed Doc, which is then passed on to the next component."
   ]
  },
  {
   "cell_type": "markdown",
   "id": "c81842a3",
   "metadata": {},
   "source": [
    "<!--\n",
    "<div>\n",
    "<img src=\"../07-pictures/spacy_nlp_pipeline.png\" width=\"500\"/>\n",
    "</div>\n",
    "-->\n",
    "\n",
    "![pic](../07-pictures/spacy_nlp_pipeline.png)\n"
   ]
  },
  {
   "cell_type": "markdown",
   "id": "66aff962",
   "metadata": {},
   "source": [
    "*source: spaCy [on line documentation](https://spacy.io/usage/spacy-101)*"
   ]
  },
  {
   "cell_type": "code",
   "execution_count": 6,
   "id": "d74f75a3",
   "metadata": {},
   "outputs": [],
   "source": [
    "article = \"The fourth Wells account moving to another agency is the packaged paper-products division of Georgia-Pacific Corp., which arrived at Wells only last fall. Like Hertz and the History Channel, it is also leaving for an Omnicom-owned agency, the BBDO South unit of BBDO Worldwide. BBDO South in Atlanta, which handles corporate advertising for Georgia-Pacific, will assume additional duties for brands like Angel Soft toilet tissue and Sparkle paper towels, said Ken Haldin, a spokesman for Georgia-Pacific in Atlanta.\""
   ]
  },
  {
   "cell_type": "code",
   "execution_count": 7,
   "id": "c6a36d41",
   "metadata": {},
   "outputs": [
    {
     "name": "stdout",
     "output_type": "stream",
     "text": [
      "Original article: The fourth Wells account moving to another agency is the packaged paper-products division of Georgia-Pacific Corp., which arrived at Wells only last fall. Like Hertz and the History Channel, it is also leaving for an Omnicom-owned agency, the BBDO South unit of BBDO Worldwide. BBDO South in Atlanta, which handles corporate advertising for Georgia-Pacific, will assume additional duties for brands like Angel Soft toilet tissue and Sparkle paper towels, said Ken Haldin, a spokesman for Georgia-Pacific in Atlanta. \n",
      "\n",
      "Type : ORDINAL, Value : fourth\n",
      "Type : ORG, Value : Wells\n",
      "Type : ORG, Value : Georgia-Pacific Corp.\n",
      "Type : ORG, Value : Wells\n",
      "Type : PERSON, Value : Hertz\n",
      "Type : ORG, Value : the History Channel\n",
      "Type : ORG, Value : Omnicom\n",
      "Type : ORG, Value : BBDO South\n",
      "Type : ORG, Value : BBDO Worldwide\n",
      "Type : ORG, Value : BBDO South\n",
      "Type : GPE, Value : Atlanta\n",
      "Type : ORG, Value : Georgia-Pacific\n",
      "Type : ORG, Value : Angel Soft\n",
      "Type : PERSON, Value : Ken Haldin\n",
      "Type : ORG, Value : Georgia-Pacific\n",
      "Type : GPE, Value : Atlanta\n"
     ]
    },
    {
     "data": {
      "text/html": [
       "<span class=\"tex2jax_ignore\"><div class=\"entities\" style=\"line-height: 2.5; direction: ltr\">The \n",
       "<mark class=\"entity\" style=\"background: #e4e7d2; padding: 0.45em 0.6em; margin: 0 0.25em; line-height: 1; border-radius: 0.35em;\">\n",
       "    fourth\n",
       "    <span style=\"font-size: 0.8em; font-weight: bold; line-height: 1; border-radius: 0.35em; text-transform: uppercase; vertical-align: middle; margin-left: 0.5rem\">ORDINAL</span>\n",
       "</mark>\n",
       " \n",
       "<mark class=\"entity\" style=\"background: #7aecec; padding: 0.45em 0.6em; margin: 0 0.25em; line-height: 1; border-radius: 0.35em;\">\n",
       "    Wells\n",
       "    <span style=\"font-size: 0.8em; font-weight: bold; line-height: 1; border-radius: 0.35em; text-transform: uppercase; vertical-align: middle; margin-left: 0.5rem\">ORG</span>\n",
       "</mark>\n",
       " account moving to another agency is the packaged paper-products division of \n",
       "<mark class=\"entity\" style=\"background: #7aecec; padding: 0.45em 0.6em; margin: 0 0.25em; line-height: 1; border-radius: 0.35em;\">\n",
       "    Georgia-Pacific Corp.\n",
       "    <span style=\"font-size: 0.8em; font-weight: bold; line-height: 1; border-radius: 0.35em; text-transform: uppercase; vertical-align: middle; margin-left: 0.5rem\">ORG</span>\n",
       "</mark>\n",
       ", which arrived at \n",
       "<mark class=\"entity\" style=\"background: #7aecec; padding: 0.45em 0.6em; margin: 0 0.25em; line-height: 1; border-radius: 0.35em;\">\n",
       "    Wells\n",
       "    <span style=\"font-size: 0.8em; font-weight: bold; line-height: 1; border-radius: 0.35em; text-transform: uppercase; vertical-align: middle; margin-left: 0.5rem\">ORG</span>\n",
       "</mark>\n",
       " only last fall. Like \n",
       "<mark class=\"entity\" style=\"background: #aa9cfc; padding: 0.45em 0.6em; margin: 0 0.25em; line-height: 1; border-radius: 0.35em;\">\n",
       "    Hertz\n",
       "    <span style=\"font-size: 0.8em; font-weight: bold; line-height: 1; border-radius: 0.35em; text-transform: uppercase; vertical-align: middle; margin-left: 0.5rem\">PERSON</span>\n",
       "</mark>\n",
       " and \n",
       "<mark class=\"entity\" style=\"background: #7aecec; padding: 0.45em 0.6em; margin: 0 0.25em; line-height: 1; border-radius: 0.35em;\">\n",
       "    the History Channel\n",
       "    <span style=\"font-size: 0.8em; font-weight: bold; line-height: 1; border-radius: 0.35em; text-transform: uppercase; vertical-align: middle; margin-left: 0.5rem\">ORG</span>\n",
       "</mark>\n",
       ", it is also leaving for an \n",
       "<mark class=\"entity\" style=\"background: #7aecec; padding: 0.45em 0.6em; margin: 0 0.25em; line-height: 1; border-radius: 0.35em;\">\n",
       "    Omnicom\n",
       "    <span style=\"font-size: 0.8em; font-weight: bold; line-height: 1; border-radius: 0.35em; text-transform: uppercase; vertical-align: middle; margin-left: 0.5rem\">ORG</span>\n",
       "</mark>\n",
       "-owned agency, the \n",
       "<mark class=\"entity\" style=\"background: #7aecec; padding: 0.45em 0.6em; margin: 0 0.25em; line-height: 1; border-radius: 0.35em;\">\n",
       "    BBDO South\n",
       "    <span style=\"font-size: 0.8em; font-weight: bold; line-height: 1; border-radius: 0.35em; text-transform: uppercase; vertical-align: middle; margin-left: 0.5rem\">ORG</span>\n",
       "</mark>\n",
       " unit of \n",
       "<mark class=\"entity\" style=\"background: #7aecec; padding: 0.45em 0.6em; margin: 0 0.25em; line-height: 1; border-radius: 0.35em;\">\n",
       "    BBDO Worldwide\n",
       "    <span style=\"font-size: 0.8em; font-weight: bold; line-height: 1; border-radius: 0.35em; text-transform: uppercase; vertical-align: middle; margin-left: 0.5rem\">ORG</span>\n",
       "</mark>\n",
       ". \n",
       "<mark class=\"entity\" style=\"background: #7aecec; padding: 0.45em 0.6em; margin: 0 0.25em; line-height: 1; border-radius: 0.35em;\">\n",
       "    BBDO South\n",
       "    <span style=\"font-size: 0.8em; font-weight: bold; line-height: 1; border-radius: 0.35em; text-transform: uppercase; vertical-align: middle; margin-left: 0.5rem\">ORG</span>\n",
       "</mark>\n",
       " in \n",
       "<mark class=\"entity\" style=\"background: #feca74; padding: 0.45em 0.6em; margin: 0 0.25em; line-height: 1; border-radius: 0.35em;\">\n",
       "    Atlanta\n",
       "    <span style=\"font-size: 0.8em; font-weight: bold; line-height: 1; border-radius: 0.35em; text-transform: uppercase; vertical-align: middle; margin-left: 0.5rem\">GPE</span>\n",
       "</mark>\n",
       ", which handles corporate advertising for \n",
       "<mark class=\"entity\" style=\"background: #7aecec; padding: 0.45em 0.6em; margin: 0 0.25em; line-height: 1; border-radius: 0.35em;\">\n",
       "    Georgia-Pacific\n",
       "    <span style=\"font-size: 0.8em; font-weight: bold; line-height: 1; border-radius: 0.35em; text-transform: uppercase; vertical-align: middle; margin-left: 0.5rem\">ORG</span>\n",
       "</mark>\n",
       ", will assume additional duties for brands like \n",
       "<mark class=\"entity\" style=\"background: #7aecec; padding: 0.45em 0.6em; margin: 0 0.25em; line-height: 1; border-radius: 0.35em;\">\n",
       "    Angel Soft\n",
       "    <span style=\"font-size: 0.8em; font-weight: bold; line-height: 1; border-radius: 0.35em; text-transform: uppercase; vertical-align: middle; margin-left: 0.5rem\">ORG</span>\n",
       "</mark>\n",
       " toilet tissue and Sparkle paper towels, said \n",
       "<mark class=\"entity\" style=\"background: #aa9cfc; padding: 0.45em 0.6em; margin: 0 0.25em; line-height: 1; border-radius: 0.35em;\">\n",
       "    Ken Haldin\n",
       "    <span style=\"font-size: 0.8em; font-weight: bold; line-height: 1; border-radius: 0.35em; text-transform: uppercase; vertical-align: middle; margin-left: 0.5rem\">PERSON</span>\n",
       "</mark>\n",
       ", a spokesman for \n",
       "<mark class=\"entity\" style=\"background: #7aecec; padding: 0.45em 0.6em; margin: 0 0.25em; line-height: 1; border-radius: 0.35em;\">\n",
       "    Georgia-Pacific\n",
       "    <span style=\"font-size: 0.8em; font-weight: bold; line-height: 1; border-radius: 0.35em; text-transform: uppercase; vertical-align: middle; margin-left: 0.5rem\">ORG</span>\n",
       "</mark>\n",
       " in \n",
       "<mark class=\"entity\" style=\"background: #feca74; padding: 0.45em 0.6em; margin: 0 0.25em; line-height: 1; border-radius: 0.35em;\">\n",
       "    Atlanta\n",
       "    <span style=\"font-size: 0.8em; font-weight: bold; line-height: 1; border-radius: 0.35em; text-transform: uppercase; vertical-align: middle; margin-left: 0.5rem\">GPE</span>\n",
       "</mark>\n",
       ".</div></span>"
      ],
      "text/plain": [
       "<IPython.core.display.HTML object>"
      ]
     },
     "metadata": {},
     "output_type": "display_data"
    }
   ],
   "source": [
    "spacy_nlp = spacy.load(\"en_core_web_sm\")\n",
    "document  = spacy_nlp(article)\n",
    "print('Original article: %s \\n' % (article))\n",
    "for element in document.ents:\n",
    "    print('Type : %s, Value : %s' % (element.label_, element))\n",
    "\n",
    "spacy.displacy.render(spacy_nlp(article), style='ent', jupyter=True)    "
   ]
  },
  {
   "cell_type": "markdown",
   "id": "f358e215",
   "metadata": {},
   "source": [
    "Natural language processing applications are characterized by complex interdependent decisions that require large amounts of prior knowledge. In this case, as you can see, the system designed by Stanford did not achieve the same result as spaCy, but it is pure accident; in fact, a lot depends on how well the models have been trained and with how much data. For this reason, in case there is a need to perform a task like this, the best thing to do is to use multiple tools and compare the results, in order to find the best one in terms of performance and response."
   ]
  },
  {
   "cell_type": "markdown",
   "id": "8b1bd1e1",
   "metadata": {},
   "source": [
    "## Chunking"
   ]
  },
  {
   "cell_type": "markdown",
   "id": "f54deb30",
   "metadata": {},
   "source": [
    "In entity recognition, every token is tagged with an IOB label and then nearby tokens are combined together based on their labels. IOB labels (I-inside, O-out, B-beginning) are something similar to PoS tagging but it includes domain-specific custom labels. For instance, for the user request, ‘What is the price of American Airlines flight from New York to Los Angeles’ the tagged IOB labels are on the left. This IOB structure is provided by the model underlying the Entity Recognition engine. Below we present one of this model: Chunking."
   ]
  },
  {
   "cell_type": "markdown",
   "id": "35e2bed7",
   "metadata": {},
   "source": [
    "Chunking is one of the rule-based text extraction processes which is used for building Named-entity recognition models. In chucking, a chunker chunks the phrases that are meaningful in a text. \n",
    "Chunking **works on top of POS tagging, it uses pos-tags as input and provides chunks as output**.\n",
    "In simple words it is a generalization of tagging in which a contiguous sequence of words is assigned a single tag\n",
    "It is also known as shallow parsing. The resulted group of words is called \"chunks.\"\n",
    "In shallow parsing, there is maximum one level between roots and leaves while deep parsing comprises of more than one level.\n",
    "Shallow Parsing is also called light parsing or chunking."
   ]
  },
  {
   "cell_type": "markdown",
   "id": "e2e4afff",
   "metadata": {},
   "source": [
    "![pic](../07-pictures/chunk-segmentation.png)"
   ]
  },
  {
   "cell_type": "markdown",
   "id": "dcc2f64b",
   "metadata": {},
   "source": [
    "### Regex Based Chunking"
   ]
  },
  {
   "cell_type": "markdown",
   "id": "6627d758",
   "metadata": {},
   "source": [
    "#### Noun Phrase Chunking\n",
    "\n",
    "The chunker is built upon a set of production rules, otherwise known as Grammar Rules. For instance, in the case of NER, grammar can be a pattern to match a Noun Phrase, since Named-entities are mostly nouns.\n",
    "\n",
    "A noun phrase, or nominal (phrase), is a phrase that has a noun (or indefinite pronoun) as its head or performs the same grammatical function as a noun. Noun phrases are very common cross-linguistically, and they may be the most frequently occurring phrase type. Noun phrases often function as verb subjects and objects, as predicative expressions and as the complements of prepositions. Noun phrases can be embedded inside each other; for instance, the noun phrase *some of his constituents* contains the shorter noun phrase *his constituents*."
   ]
  },
  {
   "cell_type": "markdown",
   "id": "0858fb5f",
   "metadata": {},
   "source": [
    "As we have said, one of the most useful sources of information for NP-chunking is part-of-speech tags. This is one of the motivations for performing part-of-speech tagging in our information extraction system. Let's see a very simple example with a tagged text. The sentence is: \"the little yellow dog barked at the cat\". In order to focus on how chunking works, let's suppose that we have alredy parsed this simple phrase for POS tagging and assume this is the result:"
   ]
  },
  {
   "cell_type": "code",
   "execution_count": 8,
   "id": "6821526f",
   "metadata": {},
   "outputs": [],
   "source": [
    "sentence = [(\"the\", \"DT\"), (\"little\", \"JJ\"), (\"yellow\", \"JJ\"),(\"dog\", \"NN\"), \n",
    "            (\"barked\", \"VBD\"), (\"at\", \"IN\"),  (\"the\", \"DT\"), (\"cat\", \"NN\")]"
   ]
  },
  {
   "cell_type": "markdown",
   "id": "6c1eb198",
   "metadata": {},
   "source": [
    "Our sentence is split into a list of python couples where the first element is the single word and the other is the tag. \n",
    "\n",
    "In order to create an NP-chunker, we will first define a **chunk grammar**, consisting of rules that indicate how sentences should be chunked. In this case, we will define a simple grammar with a single regular-expression rule:"
   ]
  },
  {
   "cell_type": "code",
   "execution_count": 9,
   "id": "93bfeab4",
   "metadata": {},
   "outputs": [],
   "source": [
    "grammar = \"NP: {<DT>?<JJ>*<NN>}\" "
   ]
  },
  {
   "cell_type": "markdown",
   "id": "8757ee93",
   "metadata": {},
   "source": [
    "This rule says that an NP chunk should be formed whenever the chunker finds an **optional determiner (DT)** followed by **any number of adjectives (JJ)** and then **a noun (NN)**. \n",
    "\n",
    "Using this grammar, we create a chunk parser, and test it on our example sentence. The result is a tree, which we can either print, or display graphically "
   ]
  },
  {
   "cell_type": "code",
   "execution_count": 10,
   "id": "0d3295fa",
   "metadata": {},
   "outputs": [
    {
     "name": "stdout",
     "output_type": "stream",
     "text": [
      "(S\n",
      "  (NP the/DT little/JJ yellow/JJ dog/NN)\n",
      "  barked/VBD\n",
      "  at/IN\n",
      "  (NP the/DT cat/NN))\n"
     ]
    }
   ],
   "source": [
    "cp = nltk.RegexpParser(grammar) \n",
    "result = cp.parse(sentence) \n",
    "print(result)"
   ]
  },
  {
   "cell_type": "code",
   "execution_count": 11,
   "id": "849865ec",
   "metadata": {},
   "outputs": [],
   "source": [
    "result.draw()"
   ]
  },
  {
   "cell_type": "markdown",
   "id": "07c1c119",
   "metadata": {},
   "source": [
    "The rules that make up a chunk grammar use tag patterns to describe sequences of tagged words. A tag pattern is a sequence of part-of-speech tags delimited using angle brackets, e.g. $<DT>?<JJ>*<NN>$. Tag patterns are similar to regular expression patterns"
   ]
  },
  {
   "cell_type": "code",
   "execution_count": 12,
   "id": "126d83c0",
   "metadata": {},
   "outputs": [],
   "source": [
    "pos_sent = \"Demand/NN has/VBZ caught/VBN up/IN with/IN the/DT supply/NN of/IN certain/JJ types/NNS of/IN freight/NN transportation/NN ,/, and/CC rates/NNS are/VBP starting/VBG to/TO move/VB up/IN ''/'' at/IN a/DT rate/NN ``/`` close/RB to/TO or/CC slightly/RB more/JJR than/IN the/DT inflation/NN rate/NN ,/, ''/'' said/VBD Clifford/NNP Sayre/NNP ,/, director/NN of/IN logistics/NNS at/IN Du/NNP Pont/NNP Co/NNP\"\n",
    "pos_sent = pos_sent.split()\n",
    "pos_list = []\n",
    "for item in pos_sent:\n",
    "    pos_list.append(tuple(item.split(\"/\")))"
   ]
  },
  {
   "cell_type": "code",
   "execution_count": 13,
   "id": "be7adf30",
   "metadata": {},
   "outputs": [
    {
     "name": "stdout",
     "output_type": "stream",
     "text": [
      "(S\n",
      "  (NP Demand/NN)\n",
      "  has/VBZ\n",
      "  caught/VBN\n",
      "  up/IN\n",
      "  with/IN\n",
      "  (NP the/DT supply/NN)\n",
      "  of/IN\n",
      "  (NP certain/JJ types/NNS)\n",
      "  of/IN\n",
      "  (NP freight/NN transportation/NN)\n",
      "  ,/,\n",
      "  and/CC\n",
      "  (NP rates/NNS)\n",
      "  are/VBP\n",
      "  starting/VBG\n",
      "  to/TO\n",
      "  move/VB\n",
      "  up/IN\n",
      "  ''/''\n",
      "  at/IN\n",
      "  (NP a/DT rate/NN)\n",
      "  ``/``\n",
      "  close/RB\n",
      "  to/TO\n",
      "  or/CC\n",
      "  slightly/RB\n",
      "  more/JJR\n",
      "  than/IN\n",
      "  (NP the/DT inflation/NN rate/NN)\n",
      "  ,/,\n",
      "  ''/''\n",
      "  said/VBD\n",
      "  (NP Clifford/NNP Sayre/NNP)\n",
      "  ,/,\n",
      "  (NP director/NN)\n",
      "  of/IN\n",
      "  (NP logistics/NNS)\n",
      "  at/IN\n",
      "  (NP Du/NNP Pont/NNP Co/NNP))\n"
     ]
    }
   ],
   "source": [
    "grammar = \"NP: {<DT>?<JJ>?<NN.*>+}\" \n",
    "\n",
    "cp = nltk.RegexpParser(grammar) \n",
    "result = cp.parse(pos_list) \n",
    "\n",
    "print(result)"
   ]
  },
  {
   "cell_type": "code",
   "execution_count": 14,
   "id": "5b573dab",
   "metadata": {},
   "outputs": [],
   "source": [
    "result.draw()"
   ]
  },
  {
   "cell_type": "code",
   "execution_count": 15,
   "id": "83463b2e",
   "metadata": {},
   "outputs": [],
   "source": [
    "grammar = r\"\"\"\n",
    "  NP: {<DT|PP\\$>?<JJ>*<NN>}   # chunk determiner/possessive, adjectives and noun\n",
    "      {<NNP>+}                # chunk sequences of proper nouns\n",
    "\"\"\"\n",
    "cp = nltk.RegexpParser(grammar)\n",
    "sentence = [(\"Rapunzel\", \"NNP\"), (\"let\", \"VBD\"), (\"down\", \"RP\"),\n",
    "                 (\"her\", \"PP$\"), (\"long\", \"JJ\"), (\"golden\", \"JJ\"), (\"hair\", \"NN\")]"
   ]
  },
  {
   "cell_type": "code",
   "execution_count": 16,
   "id": "44f7bb65",
   "metadata": {},
   "outputs": [
    {
     "name": "stdout",
     "output_type": "stream",
     "text": [
      "(S\n",
      "  (NP Rapunzel/NNP)\n",
      "  let/VBD\n",
      "  down/RP\n",
      "  (NP her/PP$ long/JJ golden/JJ hair/NN))\n"
     ]
    }
   ],
   "source": [
    "print(cp.parse(sentence))"
   ]
  },
  {
   "cell_type": "code",
   "execution_count": 17,
   "id": "94b4235e",
   "metadata": {},
   "outputs": [],
   "source": [
    "from nltk.corpus import brown"
   ]
  },
  {
   "cell_type": "code",
   "execution_count": 18,
   "id": "a07eb9fe",
   "metadata": {},
   "outputs": [
    {
     "data": {
      "text/plain": [
       "\"\\ncp = nltk.RegexpParser('CHUNK: {<V.*> <TO> <V.*>}')\\nbrown = nltk.corpus.brown\\nfor sent in brown.tagged_sents():\\n    tree = cp.parse(sent)\\n    for subtree in tree.subtrees():\\n         if subtree.label() == 'CHUNK': print(subtree)\\n\""
      ]
     },
     "execution_count": 18,
     "metadata": {},
     "output_type": "execute_result"
    }
   ],
   "source": [
    "'''\n",
    "cp = nltk.RegexpParser('CHUNK: {<V.*> <TO> <V.*>}')\n",
    "brown = nltk.corpus.brown\n",
    "for sent in brown.tagged_sents():\n",
    "    tree = cp.parse(sent)\n",
    "    for subtree in tree.subtrees():\n",
    "         if subtree.label() == 'CHUNK': print(subtree)\n",
    "'''         "
   ]
  },
  {
   "cell_type": "markdown",
   "id": "9c51538b",
   "metadata": {},
   "source": [
    "###  Training tagger based chunker"
   ]
  },
  {
   "cell_type": "markdown",
   "id": "b0ae965d",
   "metadata": {},
   "source": [
    "#### Representing Chunks: Tags vs Trees"
   ]
  },
  {
   "cell_type": "markdown",
   "id": "f70a3a5c",
   "metadata": {},
   "source": [
    "As befits their intermediate status between tagging and parsing, chunk structures can be represented using either tags or trees. The most widespread file representation uses **IOB** tags. In this scheme, each token is tagged with one of three special chunk tags, **I** (***inside***), **O** (***outside***), or **B** (***begin***). A token is tagged as B if it marks the beginning of a chunk. Subsequent tokens within the chunk are tagged I. All other tokens are tagged O. The B and I tags are suffixed with the chunk type, e.g. B-NP, I-NP. Of course, it is not necessary to specify a chunk type for tokens that appear outside a chunk, so these are just labeled O. See in particular *Bird S. et al. Ch. 7* for further details."
   ]
  },
  {
   "cell_type": "markdown",
   "id": "ef43ef73",
   "metadata": {},
   "source": [
    "#### IOB Tag and the CoNLL 2000 Corpus"
   ]
  },
  {
   "cell_type": "markdown",
   "id": "c30675b7",
   "metadata": {},
   "source": [
    "Using the corpus module we can load Wall Street Journal text that has been tagged then chunked using the IOB notation. The chunk categories provided in this corpus are NP, VP and PP. Each sentence is represented using multiple lines, as shown below:"
   ]
  },
  {
   "cell_type": "code",
   "execution_count": 19,
   "id": "f16565c8",
   "metadata": {},
   "outputs": [
    {
     "data": {
      "text/plain": [
       "'\\nWe PRP B-NP\\nsaw VBD O\\nthe DT B-NP\\nyellow JJ I-NP\\ndog NN I-NP\\n'"
      ]
     },
     "execution_count": 19,
     "metadata": {},
     "output_type": "execute_result"
    }
   ],
   "source": [
    "'''\n",
    "We PRP B-NP\n",
    "saw VBD O\n",
    "the DT B-NP\n",
    "yellow JJ I-NP\n",
    "dog NN I-NP\n",
    "'''"
   ]
  },
  {
   "cell_type": "markdown",
   "id": "19e8863b",
   "metadata": {},
   "source": [
    "tree2conlltags,conlltags2tree are chunking utility functions.\n",
    "\n",
    "→ `tree2conlltags`, to get triples of (word, tag, chunk tags for each token). These tuples are then finally used to train a tagger and it learns IOB tags for POS tags.\n",
    "\n",
    "→ `conlltags2tree` to generate a parse tree from these token triples,  moreover, it permits us to choose any subset of the three chunk types to use, here just for NP chunks.\n",
    "Conlltags2tree() is reversal of tree2conlltags(). \n",
    "\n",
    "We can use these functions to train our parser"
   ]
  },
  {
   "cell_type": "code",
   "execution_count": 20,
   "id": "9758634b",
   "metadata": {},
   "outputs": [],
   "source": [
    "text = \"\"\"\n",
    "he PRP B-NP\n",
    "accepted VBD B-VP\n",
    "the DT B-NP\n",
    "position NN I-NP\n",
    "of IN B-PP\n",
    "vice NN B-NP\n",
    "chairman NN I-NP\n",
    "of IN B-PP\n",
    "Carlyle NNP B-NP\n",
    "Group NNP I-NP\n",
    ", , O\n",
    "a DT B-NP\n",
    "merchant NN I-NP\n",
    "banking NN I-NP\n",
    "concern NN I-NP\n",
    ". . O\n",
    "\"\"\""
   ]
  },
  {
   "cell_type": "code",
   "execution_count": 21,
   "id": "83d333a5",
   "metadata": {},
   "outputs": [
    {
     "data": {
      "image/png": "[encoded data removed]",
      "text/plain": [
       "Tree('S', [Tree('NP', [('he', 'PRP')]), ('accepted', 'VBD'), Tree('NP', [('the', 'DT'), ('position', 'NN')]), ('of', 'IN'), Tree('NP', [('vice', 'NN'), ('chairman', 'NN')]), ('of', 'IN'), Tree('NP', [('Carlyle', 'NNP'), ('Group', 'NNP')]), (',', ','), Tree('NP', [('a', 'DT'), ('merchant', 'NN'), ('banking', 'NN'), ('concern', 'NN')]), ('.', '.')])"
      ]
     },
     "execution_count": 21,
     "metadata": {},
     "output_type": "execute_result"
    }
   ],
   "source": [
    "from nltk import conlltags2tree\n",
    "tree = nltk.chunk.conllstr2tree(text, chunk_types=['NP'])\n",
    "tree"
   ]
  },
  {
   "cell_type": "markdown",
   "id": "9e1dccb9",
   "metadata": {},
   "source": [
    "We can use the NLTK corpus module to access a larger amount of chunked text. The CoNLL 2000 corpus contains 270k words of Wall Street Journal text, divided into \"train\" and \"test\" portions, annotated with part-of-speech tags and chunk tags in the IOB format. We can access the data using nltk.corpus.conll2000. Here is an example that reads the 100th sentence of the \"train\" portion of the corpus:"
   ]
  },
  {
   "cell_type": "code",
   "execution_count": 22,
   "id": "3ecbb543",
   "metadata": {},
   "outputs": [
    {
     "name": "stdout",
     "output_type": "stream",
     "text": [
      "(S\n",
      "  (PP Over/IN)\n",
      "  (NP a/DT cup/NN)\n",
      "  (PP of/IN)\n",
      "  (NP coffee/NN)\n",
      "  ,/,\n",
      "  (NP Mr./NNP Stone/NNP)\n",
      "  (VP told/VBD)\n",
      "  (NP his/PRP$ story/NN)\n",
      "  ./.)\n"
     ]
    }
   ],
   "source": [
    "from nltk.corpus import conll2000\n",
    "train_data = conll2000.chunked_sents('train.txt') \n",
    "text = train_data[99]\n",
    "print(text)"
   ]
  },
  {
   "cell_type": "code",
   "execution_count": 24,
   "id": "a6450fe5",
   "metadata": {},
   "outputs": [
    {
     "data": {
      "image/png": "[encoded data removed]",
      "text/plain": [
       "Tree('S', [Tree('PP', [('Over', 'IN')]), Tree('NP', [('a', 'DT'), ('cup', 'NN')]), Tree('PP', [('of', 'IN')]), Tree('NP', [('coffee', 'NN')]), (',', ','), Tree('NP', [('Mr.', 'NNP'), ('Stone', 'NNP')]), Tree('VP', [('told', 'VBD')]), Tree('NP', [('his', 'PRP$'), ('story', 'NN')]), ('.', '.')])"
      ]
     },
     "execution_count": 24,
     "metadata": {},
     "output_type": "execute_result"
    }
   ],
   "source": [
    "train_data[99]"
   ]
  },
  {
   "cell_type": "code",
   "execution_count": 25,
   "id": "f24246d1",
   "metadata": {},
   "outputs": [
    {
     "data": {
      "text/plain": [
       "[('Over', 'IN', 'B-PP'),\n",
       " ('a', 'DT', 'B-NP'),\n",
       " ('cup', 'NN', 'I-NP'),\n",
       " ('of', 'IN', 'B-PP'),\n",
       " ('coffee', 'NN', 'B-NP'),\n",
       " (',', ',', 'O'),\n",
       " ('Mr.', 'NNP', 'B-NP'),\n",
       " ('Stone', 'NNP', 'I-NP'),\n",
       " ('told', 'VBD', 'B-VP'),\n",
       " ('his', 'PRP$', 'B-NP'),\n",
       " ('story', 'NN', 'I-NP'),\n",
       " ('.', '.', 'O')]"
      ]
     },
     "execution_count": 25,
     "metadata": {},
     "output_type": "execute_result"
    }
   ],
   "source": [
    "from nltk.chunk.util import tree2conlltags,conlltags2tree\n",
    "\n",
    "tree2conlltags(train_data[99])"
   ]
  },
  {
   "cell_type": "markdown",
   "id": "6ca4a2d0",
   "metadata": {},
   "source": [
    "## Relation Extraction"
   ]
  },
  {
   "cell_type": "markdown",
   "id": "67a7cabb",
   "metadata": {},
   "source": [
    "Once named entities have been identified in a text, we then want to\n",
    "extract the relations that exist between them. As indicated earlier, we\n",
    "will typically be looking for relations between specified types of named\n",
    "entity. One way of approaching this task is to initially look for all\n",
    "triples of the form $(X, \\alpha, Y)$, where $X$ and $Y$ are named entities of the\n",
    "required types, and $\\alpha$ is the string of words that intervenes between $X$\n",
    "and $Y$. We can then use regular expressions to pull out just those\n",
    "instances of $\\alpha$ that express the relation that we are looking for."
   ]
  },
  {
   "cell_type": "code",
   "execution_count": 26,
   "id": "35b9cffb",
   "metadata": {},
   "outputs": [
    {
     "data": {
      "text/plain": [
       "<re.Match object; span=(0, 14), match='New York is in'>"
      ]
     },
     "execution_count": 26,
     "metadata": {},
     "output_type": "execute_result"
    }
   ],
   "source": [
    "'''\n",
    ".   This matches any character except a newline\n",
    "*   Causes the resulting RE to match 0 or more repetitions of the preceding RE, as many repetitions as are possible\n",
    "\\b  Matches the empty string, but only at the beginning or end of a word.\n",
    "\n",
    "then\n",
    "\n",
    ".*\\bin\\b  Match any occurrence of the word 'in' preceded or followed by a white space. \n",
    "\n",
    "see https://docs.python.org/3/library/re.html\n",
    "\n",
    "'''\n",
    "import re\n",
    "\n",
    "text = \"New York is in the United Stases\"\n",
    "re.search(r'.*\\bin\\b', text)"
   ]
  },
  {
   "cell_type": "code",
   "execution_count": 27,
   "id": "e86b7bcf",
   "metadata": {},
   "outputs": [
    {
     "data": {
      "text/plain": [
       "<re.Match object; span=(0, 19), match='am I successfull in'>"
      ]
     },
     "execution_count": 27,
     "metadata": {},
     "output_type": "execute_result"
    }
   ],
   "source": [
    "text = \"am I successfull in doing whell this lesson?\"\n",
    "re.search(r'.*\\bin\\b', text)"
   ]
  },
  {
   "cell_type": "code",
   "execution_count": 28,
   "id": "ff423036",
   "metadata": {},
   "outputs": [
    {
     "name": "stdout",
     "output_type": "stream",
     "text": [
      "<re.Match object; span=(0, 14), match='New York is in'>\n",
      "None\n"
     ]
    }
   ],
   "source": [
    "'''\n",
    "(?!...) Matches if ... doesn’t match next. This is a negative lookahead assertion. \n",
    "        For example, Isaac (?!Asimov) will match 'Isaac ' only if it’s not followed by 'Asimov'.\n",
    "\n",
    "+       Causes the resulting RE to match 1 or more repetitions of the preceding RE.\n",
    "\n",
    "then\n",
    "\n",
    "(?!\\b.+ing\\b) allows us to disregard strings such as \n",
    "              \"am I successfull in doing whell this lesson?\"\n",
    "              where in is followed by a gerund.\n",
    "\n",
    "see https://docs.python.org/3/library/re.html\n",
    "\n",
    "'''\n",
    "regex = r'.*\\bin\\b(?!\\b.+ing\\b)'\n",
    "text1 = \"New York is in the United Stases\"\n",
    "text2 = \"am I successfull in doing whell this lesson?\"\n",
    "\n",
    "print(re.search(regex, text1))\n",
    "print(re.search(regex, text2))"
   ]
  },
  {
   "cell_type": "markdown",
   "id": "58ef01e6",
   "metadata": {},
   "source": [
    "The following example searches for strings that contain the word in a nltk corpus. "
   ]
  },
  {
   "cell_type": "code",
   "execution_count": 29,
   "id": "27973509",
   "metadata": {},
   "outputs": [
    {
     "name": "stdout",
     "output_type": "stream",
     "text": [
      "[ORG: 'WHYY'] 'in' [LOC: 'Philadelphia']\n",
      "[ORG: 'McGlashan &AMP; Sarrail'] 'firm in' [LOC: 'San Mateo']\n",
      "[ORG: 'Freedom Forum'] 'in' [LOC: 'Arlington']\n",
      "[ORG: 'Brookings Institution'] ', the research group in' [LOC: 'Washington']\n",
      "[ORG: 'Idealab'] ', a self-described business incubator based in' [LOC: 'Los Angeles']\n",
      "[ORG: 'Open Text'] ', based in' [LOC: 'Waterloo']\n",
      "[ORG: 'WGBH'] 'in' [LOC: 'Boston']\n",
      "[ORG: 'Bastille Opera'] 'in' [LOC: 'Paris']\n",
      "[ORG: 'Omnicom'] 'in' [LOC: 'New York']\n",
      "[ORG: 'DDB Needham'] 'in' [LOC: 'New York']\n",
      "[ORG: 'Kaplan Thaler Group'] 'in' [LOC: 'New York']\n",
      "[ORG: 'BBDO South'] 'in' [LOC: 'Atlanta']\n",
      "[ORG: 'Georgia-Pacific'] 'in' [LOC: 'Atlanta']\n"
     ]
    }
   ],
   "source": [
    "IN = re.compile(r'.*\\bin\\b(?!\\b.+ing)')\n",
    "for doc in nltk.corpus.ieer.parsed_docs('NYT_19980315'):\n",
    "    for rel in nltk.sem.extract_rels('ORG', 'LOC', doc,\n",
    "                                     corpus='ieer', pattern = IN):\n",
    "        print(nltk.sem.rtuple(rel))"
   ]
  },
  {
   "cell_type": "markdown",
   "id": "152dcb6c",
   "metadata": {},
   "source": [
    "## Example 2 - Analyze Transactional Data"
   ]
  },
  {
   "cell_type": "markdown",
   "id": "5d0e8298",
   "metadata": {},
   "source": [
    "The transaction historical record of a bank customer contains a very large set of information on the level of their income and expenses, when their expenses are made and on their geographical location. Furthermore, we can understand if it is a consumer mainly oriented towards e-commerce or if the expenses are of a more traditional type. As we have said, it is a very large set of information whose potential has mostly been left untapped at least until now. Aggregating a consumer's transaction history offers a unique opportunity to understand their financial profile and behavior. However, banks risk missing out on this opportunity because, thanks to the open banking regulation (PSD2) today, even the smallest fintech startup can build products and processes on that data.\n",
    "\n",
    "Transaction information is often greatly abbreviated, with ambiguous conventions that often make it difficult for even customers themselves to recognize their transactions. Typically raw data often contains duplicate entries, long complicated text strings, and lots of numbers with very little context.\n",
    "\n",
    "First of all it is necessary to remove the noise and translate the data into something that anyone can easily understand. In this the techniques of normalization and cleaning of textual data that we have previously mentioned are of great help. After that we can try one of the previous analysis to extract information from a generic unstructured string as in the example below. \n",
    "\n",
    "In this case we use a sample from an italian bank account. Let's say that you have one of the following strings to analize:"
   ]
  },
  {
   "cell_type": "code",
   "execution_count": 8,
   "id": "98606c6e",
   "metadata": {},
   "outputs": [],
   "source": [
    "transaction = 'ORD: MARNI GROUP SRLVIA GIAN CARLO SISMONDI 7 0 B FILIALE DISPONENTE 00560 BON. SEPA 0306927697473309480959009590IT DEL 14.04.20 BIC: BCITITMMXXX INF:EE: 0230560001136 RI: /INV/22 31.1.20200560001136 CAUS: SUPP Rif Banca: 0480001036800039'\n",
    "#transaction = 'ADDEBITO SDD N. 280986523 A FAVORE CREDIT DATA RESEARCH ITALIA SRL C D R ITALIA SRLCODICE MANDATO J1615481817 IMPORTO 366,00 COMMISSIONI 0,60 SPESE 0,00 Ft.N.3005/1V/2020 06/04/2020 Rif Banca: 4670001027400010'\n",
    "#transaction = 'ADDEBITO SDD N. 279441904 A FAVORE GRENKE LOCAZIONE S.R.L. CODICE MANDATO 15310761 IMPORTO 1236,17 COMMISSIONI 0,60 SPESE 0,00 15310761 codice cliente 01.04.20-30.06.20 fattura numero 0000300051 importo lordo 1.236,17 imposta 222,92 Rif Banca: 4670001024500005'"
   ]
  },
  {
   "cell_type": "markdown",
   "id": "1b975312",
   "metadata": {},
   "source": [
    "First of all we have to download the [italian pipeline](https://spacy.io/models/it) optimized for CPU which contains the following components: tok2vec, morphologizer, tagger, parser, senter, ner, attribute_ruler, lemmatize. It comes in different size (small: sm, medium: md and large: lg) depending on the training set they have used. In windows you can open the Anaconda Prompt windows and enter the following command: \n",
    "\n",
    "`python -m spacy download it_core_news_lg`"
   ]
  },
  {
   "cell_type": "code",
   "execution_count": 9,
   "id": "1e9f688e",
   "metadata": {},
   "outputs": [
    {
     "name": "stdout",
     "output_type": "stream",
     "text": [
      "Original article: ORD: MARNI GROUP SRLVIA GIAN CARLO SISMONDI 7 0 B FILIALE DISPONENTE 00560 BON. SEPA 0306927697473309480959009590IT DEL 14.04.20 BIC: BCITITMMXXX INF:EE: 0230560001136 RI: /INV/22 31.1.20200560001136 CAUS: SUPP Rif Banca: 0480001036800039\n",
      "Type : ORG, Value : MARNI GROUP\n",
      "Type : ORG, Value : DISPONENTE\n",
      "Type : LOC, Value : BON\n",
      "Type : MISC, Value : BIC\n",
      "Type : MISC, Value : BCITITMMXXX\n",
      "Type : MISC, Value : CAUS\n",
      "Type : MISC, Value : SUPP Rif\n"
     ]
    }
   ],
   "source": [
    "import spacy\n",
    "\n",
    "spacy_nlp = spacy.load(\"it_core_news_lg\")\n",
    "document  = spacy_nlp(transaction)\n",
    "print('Original article: %s' % (transaction))\n",
    "for element in document.ents:\n",
    "    print('Type : %s, Value : %s' % (element.label_, element))"
   ]
  },
  {
   "cell_type": "code",
   "execution_count": 10,
   "id": "ceb8936e",
   "metadata": {},
   "outputs": [],
   "source": [
    "potential_org = []\n",
    "for element in document.ents:\n",
    "    if element.label_=='ORG':\n",
    "        potential_org.append(element)"
   ]
  },
  {
   "cell_type": "code",
   "execution_count": 11,
   "id": "71a2b3ab",
   "metadata": {},
   "outputs": [
    {
     "name": "stdout",
     "output_type": "stream",
     "text": [
      "MARNI GROUP\n"
     ]
    }
   ],
   "source": [
    "print(potential_org[0])"
   ]
  },
  {
   "cell_type": "code",
   "execution_count": 12,
   "id": "6bcf5004",
   "metadata": {},
   "outputs": [],
   "source": [
    "# The BeautifulSoup Library for WEB Scraping\n",
    "from bs4 import BeautifulSoup\n",
    "from googlesearch import search"
   ]
  },
  {
   "cell_type": "code",
   "execution_count": 13,
   "id": "ec08e7e7",
   "metadata": {},
   "outputs": [
    {
     "ename": "ConnectionError",
     "evalue": "HTTPSConnectionPool(host='www.google.com', port=443): Max retries exceeded with url: /search?q=MARNI+GROUP&num=11&hl=en (Caused by NewConnectionError('<urllib3.connection.HTTPSConnection object at 0x0000025E523BF1C8>: Failed to establish a new connection: [Errno 11001] getaddrinfo failed'))",
     "output_type": "error",
     "traceback": [
      "\u001b[1;31m---------------------------------------------------------------------------\u001b[0m",
      "\u001b[1;31mgaierror\u001b[0m                                  Traceback (most recent call last)",
      "\u001b[1;32m~\\Anaconda3\\lib\\site-packages\\urllib3\\connection.py\u001b[0m in \u001b[0;36m_new_conn\u001b[1;34m(self)\u001b[0m\n\u001b[0;32m    169\u001b[0m             conn = connection.create_connection(\n\u001b[1;32m--> 170\u001b[1;33m                 \u001b[1;33m(\u001b[0m\u001b[0mself\u001b[0m\u001b[1;33m.\u001b[0m\u001b[0m_dns_host\u001b[0m\u001b[1;33m,\u001b[0m \u001b[0mself\u001b[0m\u001b[1;33m.\u001b[0m\u001b[0mport\u001b[0m\u001b[1;33m)\u001b[0m\u001b[1;33m,\u001b[0m \u001b[0mself\u001b[0m\u001b[1;33m.\u001b[0m\u001b[0mtimeout\u001b[0m\u001b[1;33m,\u001b[0m \u001b[1;33m**\u001b[0m\u001b[0mextra_kw\u001b[0m\u001b[1;33m\u001b[0m\u001b[1;33m\u001b[0m\u001b[0m\n\u001b[0m\u001b[0;32m    171\u001b[0m             )\n",
      "\u001b[1;32m~\\Anaconda3\\lib\\site-packages\\urllib3\\util\\connection.py\u001b[0m in \u001b[0;36mcreate_connection\u001b[1;34m(address, timeout, source_address, socket_options)\u001b[0m\n\u001b[0;32m     72\u001b[0m \u001b[1;33m\u001b[0m\u001b[0m\n\u001b[1;32m---> 73\u001b[1;33m     \u001b[1;32mfor\u001b[0m \u001b[0mres\u001b[0m \u001b[1;32min\u001b[0m \u001b[0msocket\u001b[0m\u001b[1;33m.\u001b[0m\u001b[0mgetaddrinfo\u001b[0m\u001b[1;33m(\u001b[0m\u001b[0mhost\u001b[0m\u001b[1;33m,\u001b[0m \u001b[0mport\u001b[0m\u001b[1;33m,\u001b[0m \u001b[0mfamily\u001b[0m\u001b[1;33m,\u001b[0m \u001b[0msocket\u001b[0m\u001b[1;33m.\u001b[0m\u001b[0mSOCK_STREAM\u001b[0m\u001b[1;33m)\u001b[0m\u001b[1;33m:\u001b[0m\u001b[1;33m\u001b[0m\u001b[1;33m\u001b[0m\u001b[0m\n\u001b[0m\u001b[0;32m     74\u001b[0m         \u001b[0maf\u001b[0m\u001b[1;33m,\u001b[0m \u001b[0msocktype\u001b[0m\u001b[1;33m,\u001b[0m \u001b[0mproto\u001b[0m\u001b[1;33m,\u001b[0m \u001b[0mcanonname\u001b[0m\u001b[1;33m,\u001b[0m \u001b[0msa\u001b[0m \u001b[1;33m=\u001b[0m \u001b[0mres\u001b[0m\u001b[1;33m\u001b[0m\u001b[1;33m\u001b[0m\u001b[0m\n",
      "\u001b[1;32m~\\Anaconda3\\lib\\socket.py\u001b[0m in \u001b[0;36mgetaddrinfo\u001b[1;34m(host, port, family, type, proto, flags)\u001b[0m\n\u001b[0;32m    747\u001b[0m     \u001b[0maddrlist\u001b[0m \u001b[1;33m=\u001b[0m \u001b[1;33m[\u001b[0m\u001b[1;33m]\u001b[0m\u001b[1;33m\u001b[0m\u001b[1;33m\u001b[0m\u001b[0m\n\u001b[1;32m--> 748\u001b[1;33m     \u001b[1;32mfor\u001b[0m \u001b[0mres\u001b[0m \u001b[1;32min\u001b[0m \u001b[0m_socket\u001b[0m\u001b[1;33m.\u001b[0m\u001b[0mgetaddrinfo\u001b[0m\u001b[1;33m(\u001b[0m\u001b[0mhost\u001b[0m\u001b[1;33m,\u001b[0m \u001b[0mport\u001b[0m\u001b[1;33m,\u001b[0m \u001b[0mfamily\u001b[0m\u001b[1;33m,\u001b[0m \u001b[0mtype\u001b[0m\u001b[1;33m,\u001b[0m \u001b[0mproto\u001b[0m\u001b[1;33m,\u001b[0m \u001b[0mflags\u001b[0m\u001b[1;33m)\u001b[0m\u001b[1;33m:\u001b[0m\u001b[1;33m\u001b[0m\u001b[1;33m\u001b[0m\u001b[0m\n\u001b[0m\u001b[0;32m    749\u001b[0m         \u001b[0maf\u001b[0m\u001b[1;33m,\u001b[0m \u001b[0msocktype\u001b[0m\u001b[1;33m,\u001b[0m \u001b[0mproto\u001b[0m\u001b[1;33m,\u001b[0m \u001b[0mcanonname\u001b[0m\u001b[1;33m,\u001b[0m \u001b[0msa\u001b[0m \u001b[1;33m=\u001b[0m \u001b[0mres\u001b[0m\u001b[1;33m\u001b[0m\u001b[1;33m\u001b[0m\u001b[0m\n",
      "\u001b[1;31mgaierror\u001b[0m: [Errno 11001] getaddrinfo failed",
      "\nDuring handling of the above exception, another exception occurred:\n",
      "\u001b[1;31mNewConnectionError\u001b[0m                        Traceback (most recent call last)",
      "\u001b[1;32m~\\Anaconda3\\lib\\site-packages\\urllib3\\connectionpool.py\u001b[0m in \u001b[0;36murlopen\u001b[1;34m(self, method, url, body, headers, retries, redirect, assert_same_host, timeout, pool_timeout, release_conn, chunked, body_pos, **response_kw)\u001b[0m\n\u001b[0;32m    705\u001b[0m                 \u001b[0mheaders\u001b[0m\u001b[1;33m=\u001b[0m\u001b[0mheaders\u001b[0m\u001b[1;33m,\u001b[0m\u001b[1;33m\u001b[0m\u001b[1;33m\u001b[0m\u001b[0m\n\u001b[1;32m--> 706\u001b[1;33m                 \u001b[0mchunked\u001b[0m\u001b[1;33m=\u001b[0m\u001b[0mchunked\u001b[0m\u001b[1;33m,\u001b[0m\u001b[1;33m\u001b[0m\u001b[1;33m\u001b[0m\u001b[0m\n\u001b[0m\u001b[0;32m    707\u001b[0m             )\n",
      "\u001b[1;32m~\\Anaconda3\\lib\\site-packages\\urllib3\\connectionpool.py\u001b[0m in \u001b[0;36m_make_request\u001b[1;34m(self, conn, method, url, timeout, chunked, **httplib_request_kw)\u001b[0m\n\u001b[0;32m    381\u001b[0m         \u001b[1;32mtry\u001b[0m\u001b[1;33m:\u001b[0m\u001b[1;33m\u001b[0m\u001b[1;33m\u001b[0m\u001b[0m\n\u001b[1;32m--> 382\u001b[1;33m             \u001b[0mself\u001b[0m\u001b[1;33m.\u001b[0m\u001b[0m_validate_conn\u001b[0m\u001b[1;33m(\u001b[0m\u001b[0mconn\u001b[0m\u001b[1;33m)\u001b[0m\u001b[1;33m\u001b[0m\u001b[1;33m\u001b[0m\u001b[0m\n\u001b[0m\u001b[0;32m    383\u001b[0m         \u001b[1;32mexcept\u001b[0m \u001b[1;33m(\u001b[0m\u001b[0mSocketTimeout\u001b[0m\u001b[1;33m,\u001b[0m \u001b[0mBaseSSLError\u001b[0m\u001b[1;33m)\u001b[0m \u001b[1;32mas\u001b[0m \u001b[0me\u001b[0m\u001b[1;33m:\u001b[0m\u001b[1;33m\u001b[0m\u001b[1;33m\u001b[0m\u001b[0m\n",
      "\u001b[1;32m~\\Anaconda3\\lib\\site-packages\\urllib3\\connectionpool.py\u001b[0m in \u001b[0;36m_validate_conn\u001b[1;34m(self, conn)\u001b[0m\n\u001b[0;32m   1009\u001b[0m         \u001b[1;32mif\u001b[0m \u001b[1;32mnot\u001b[0m \u001b[0mgetattr\u001b[0m\u001b[1;33m(\u001b[0m\u001b[0mconn\u001b[0m\u001b[1;33m,\u001b[0m \u001b[1;34m\"sock\"\u001b[0m\u001b[1;33m,\u001b[0m \u001b[1;32mNone\u001b[0m\u001b[1;33m)\u001b[0m\u001b[1;33m:\u001b[0m  \u001b[1;31m# AppEngine might not have  `.sock`\u001b[0m\u001b[1;33m\u001b[0m\u001b[1;33m\u001b[0m\u001b[0m\n\u001b[1;32m-> 1010\u001b[1;33m             \u001b[0mconn\u001b[0m\u001b[1;33m.\u001b[0m\u001b[0mconnect\u001b[0m\u001b[1;33m(\u001b[0m\u001b[1;33m)\u001b[0m\u001b[1;33m\u001b[0m\u001b[1;33m\u001b[0m\u001b[0m\n\u001b[0m\u001b[0;32m   1011\u001b[0m \u001b[1;33m\u001b[0m\u001b[0m\n",
      "\u001b[1;32m~\\Anaconda3\\lib\\site-packages\\urllib3\\connection.py\u001b[0m in \u001b[0;36mconnect\u001b[1;34m(self)\u001b[0m\n\u001b[0;32m    352\u001b[0m         \u001b[1;31m# Add certificate verification\u001b[0m\u001b[1;33m\u001b[0m\u001b[1;33m\u001b[0m\u001b[1;33m\u001b[0m\u001b[0m\n\u001b[1;32m--> 353\u001b[1;33m         \u001b[0mconn\u001b[0m \u001b[1;33m=\u001b[0m \u001b[0mself\u001b[0m\u001b[1;33m.\u001b[0m\u001b[0m_new_conn\u001b[0m\u001b[1;33m(\u001b[0m\u001b[1;33m)\u001b[0m\u001b[1;33m\u001b[0m\u001b[1;33m\u001b[0m\u001b[0m\n\u001b[0m\u001b[0;32m    354\u001b[0m         \u001b[0mhostname\u001b[0m \u001b[1;33m=\u001b[0m \u001b[0mself\u001b[0m\u001b[1;33m.\u001b[0m\u001b[0mhost\u001b[0m\u001b[1;33m\u001b[0m\u001b[1;33m\u001b[0m\u001b[0m\n",
      "\u001b[1;32m~\\Anaconda3\\lib\\site-packages\\urllib3\\connection.py\u001b[0m in \u001b[0;36m_new_conn\u001b[1;34m(self)\u001b[0m\n\u001b[0;32m    181\u001b[0m             raise NewConnectionError(\n\u001b[1;32m--> 182\u001b[1;33m                 \u001b[0mself\u001b[0m\u001b[1;33m,\u001b[0m \u001b[1;34m\"Failed to establish a new connection: %s\"\u001b[0m \u001b[1;33m%\u001b[0m \u001b[0me\u001b[0m\u001b[1;33m\u001b[0m\u001b[1;33m\u001b[0m\u001b[0m\n\u001b[0m\u001b[0;32m    183\u001b[0m             )\n",
      "\u001b[1;31mNewConnectionError\u001b[0m: <urllib3.connection.HTTPSConnection object at 0x0000025E523BF1C8>: Failed to establish a new connection: [Errno 11001] getaddrinfo failed",
      "\nDuring handling of the above exception, another exception occurred:\n",
      "\u001b[1;31mMaxRetryError\u001b[0m                             Traceback (most recent call last)",
      "\u001b[1;32m~\\Anaconda3\\lib\\site-packages\\requests\\adapters.py\u001b[0m in \u001b[0;36msend\u001b[1;34m(self, request, stream, timeout, verify, cert, proxies)\u001b[0m\n\u001b[0;32m    448\u001b[0m                     \u001b[0mretries\u001b[0m\u001b[1;33m=\u001b[0m\u001b[0mself\u001b[0m\u001b[1;33m.\u001b[0m\u001b[0mmax_retries\u001b[0m\u001b[1;33m,\u001b[0m\u001b[1;33m\u001b[0m\u001b[1;33m\u001b[0m\u001b[0m\n\u001b[1;32m--> 449\u001b[1;33m                     \u001b[0mtimeout\u001b[0m\u001b[1;33m=\u001b[0m\u001b[0mtimeout\u001b[0m\u001b[1;33m\u001b[0m\u001b[1;33m\u001b[0m\u001b[0m\n\u001b[0m\u001b[0;32m    450\u001b[0m                 )\n",
      "\u001b[1;32m~\\Anaconda3\\lib\\site-packages\\urllib3\\connectionpool.py\u001b[0m in \u001b[0;36murlopen\u001b[1;34m(self, method, url, body, headers, retries, redirect, assert_same_host, timeout, pool_timeout, release_conn, chunked, body_pos, **response_kw)\u001b[0m\n\u001b[0;32m    755\u001b[0m             retries = retries.increment(\n\u001b[1;32m--> 756\u001b[1;33m                 \u001b[0mmethod\u001b[0m\u001b[1;33m,\u001b[0m \u001b[0murl\u001b[0m\u001b[1;33m,\u001b[0m \u001b[0merror\u001b[0m\u001b[1;33m=\u001b[0m\u001b[0me\u001b[0m\u001b[1;33m,\u001b[0m \u001b[0m_pool\u001b[0m\u001b[1;33m=\u001b[0m\u001b[0mself\u001b[0m\u001b[1;33m,\u001b[0m \u001b[0m_stacktrace\u001b[0m\u001b[1;33m=\u001b[0m\u001b[0msys\u001b[0m\u001b[1;33m.\u001b[0m\u001b[0mexc_info\u001b[0m\u001b[1;33m(\u001b[0m\u001b[1;33m)\u001b[0m\u001b[1;33m[\u001b[0m\u001b[1;36m2\u001b[0m\u001b[1;33m]\u001b[0m\u001b[1;33m\u001b[0m\u001b[1;33m\u001b[0m\u001b[0m\n\u001b[0m\u001b[0;32m    757\u001b[0m             )\n",
      "\u001b[1;32m~\\Anaconda3\\lib\\site-packages\\urllib3\\util\\retry.py\u001b[0m in \u001b[0;36mincrement\u001b[1;34m(self, method, url, response, error, _pool, _stacktrace)\u001b[0m\n\u001b[0;32m    573\u001b[0m         \u001b[1;32mif\u001b[0m \u001b[0mnew_retry\u001b[0m\u001b[1;33m.\u001b[0m\u001b[0mis_exhausted\u001b[0m\u001b[1;33m(\u001b[0m\u001b[1;33m)\u001b[0m\u001b[1;33m:\u001b[0m\u001b[1;33m\u001b[0m\u001b[1;33m\u001b[0m\u001b[0m\n\u001b[1;32m--> 574\u001b[1;33m             \u001b[1;32mraise\u001b[0m \u001b[0mMaxRetryError\u001b[0m\u001b[1;33m(\u001b[0m\u001b[0m_pool\u001b[0m\u001b[1;33m,\u001b[0m \u001b[0murl\u001b[0m\u001b[1;33m,\u001b[0m \u001b[0merror\u001b[0m \u001b[1;32mor\u001b[0m \u001b[0mResponseError\u001b[0m\u001b[1;33m(\u001b[0m\u001b[0mcause\u001b[0m\u001b[1;33m)\u001b[0m\u001b[1;33m)\u001b[0m\u001b[1;33m\u001b[0m\u001b[1;33m\u001b[0m\u001b[0m\n\u001b[0m\u001b[0;32m    575\u001b[0m \u001b[1;33m\u001b[0m\u001b[0m\n",
      "\u001b[1;31mMaxRetryError\u001b[0m: HTTPSConnectionPool(host='www.google.com', port=443): Max retries exceeded with url: /search?q=MARNI+GROUP&num=11&hl=en (Caused by NewConnectionError('<urllib3.connection.HTTPSConnection object at 0x0000025E523BF1C8>: Failed to establish a new connection: [Errno 11001] getaddrinfo failed'))",
      "\nDuring handling of the above exception, another exception occurred:\n",
      "\u001b[1;31mConnectionError\u001b[0m                           Traceback (most recent call last)",
      "\u001b[1;32m<ipython-input-13-daadcf30ba41>\u001b[0m in \u001b[0;36m<module>\u001b[1;34m\u001b[0m\n\u001b[0;32m      2\u001b[0m \u001b[0mquery\u001b[0m \u001b[1;33m=\u001b[0m \u001b[0mstr\u001b[0m\u001b[1;33m(\u001b[0m\u001b[0mpotential_org\u001b[0m\u001b[1;33m[\u001b[0m\u001b[1;36m0\u001b[0m\u001b[1;33m]\u001b[0m\u001b[1;33m)\u001b[0m\u001b[1;33m\u001b[0m\u001b[1;33m\u001b[0m\u001b[0m\n\u001b[0;32m      3\u001b[0m \u001b[1;33m\u001b[0m\u001b[0m\n\u001b[1;32m----> 4\u001b[1;33m \u001b[1;32mfor\u001b[0m \u001b[0mj\u001b[0m \u001b[1;32min\u001b[0m \u001b[0msearch\u001b[0m\u001b[1;33m(\u001b[0m\u001b[0mquery\u001b[0m\u001b[1;33m)\u001b[0m\u001b[1;33m:\u001b[0m\u001b[1;33m\u001b[0m\u001b[1;33m\u001b[0m\u001b[0m\n\u001b[0m\u001b[0;32m      5\u001b[0m    \u001b[0mprint\u001b[0m\u001b[1;33m(\u001b[0m\u001b[0mj\u001b[0m\u001b[1;33m)\u001b[0m\u001b[1;33m\u001b[0m\u001b[1;33m\u001b[0m\u001b[0m\n",
      "\u001b[1;32m~\\Anaconda3\\lib\\site-packages\\googlesearch\\__init__.py\u001b[0m in \u001b[0;36msearch\u001b[1;34m(term, num_results, lang, proxy)\u001b[0m\n\u001b[0;32m     34\u001b[0m                 \u001b[1;32myield\u001b[0m \u001b[0mlink\u001b[0m\u001b[1;33m[\u001b[0m\u001b[1;34m'href'\u001b[0m\u001b[1;33m]\u001b[0m\u001b[1;33m\u001b[0m\u001b[1;33m\u001b[0m\u001b[0m\n\u001b[0;32m     35\u001b[0m \u001b[1;33m\u001b[0m\u001b[0m\n\u001b[1;32m---> 36\u001b[1;33m     \u001b[0mhtml\u001b[0m \u001b[1;33m=\u001b[0m \u001b[0mfetch_results\u001b[0m\u001b[1;33m(\u001b[0m\u001b[0mterm\u001b[0m\u001b[1;33m,\u001b[0m \u001b[0mnum_results\u001b[0m\u001b[1;33m,\u001b[0m \u001b[0mlang\u001b[0m\u001b[1;33m)\u001b[0m\u001b[1;33m\u001b[0m\u001b[1;33m\u001b[0m\u001b[0m\n\u001b[0m\u001b[0;32m     37\u001b[0m     \u001b[1;32mreturn\u001b[0m \u001b[0mlist\u001b[0m\u001b[1;33m(\u001b[0m\u001b[0mparse_results\u001b[0m\u001b[1;33m(\u001b[0m\u001b[0mhtml\u001b[0m\u001b[1;33m)\u001b[0m\u001b[1;33m)\u001b[0m\u001b[1;33m\u001b[0m\u001b[1;33m\u001b[0m\u001b[0m\n",
      "\u001b[1;32m~\\Anaconda3\\lib\\site-packages\\googlesearch\\__init__.py\u001b[0m in \u001b[0;36mfetch_results\u001b[1;34m(search_term, number_results, language_code)\u001b[0m\n\u001b[0;32m     20\u001b[0m                 \u001b[0mproxies\u001b[0m \u001b[1;33m=\u001b[0m \u001b[1;33m{\u001b[0m\u001b[1;34m\"http\"\u001b[0m\u001b[1;33m:\u001b[0m\u001b[0mproxy\u001b[0m\u001b[1;33m}\u001b[0m\u001b[1;33m\u001b[0m\u001b[1;33m\u001b[0m\u001b[0m\n\u001b[0;32m     21\u001b[0m \u001b[1;33m\u001b[0m\u001b[0m\n\u001b[1;32m---> 22\u001b[1;33m         \u001b[0mresponse\u001b[0m \u001b[1;33m=\u001b[0m \u001b[0mget\u001b[0m\u001b[1;33m(\u001b[0m\u001b[0mgoogle_url\u001b[0m\u001b[1;33m,\u001b[0m \u001b[0mheaders\u001b[0m\u001b[1;33m=\u001b[0m\u001b[0musr_agent\u001b[0m\u001b[1;33m,\u001b[0m \u001b[0mproxies\u001b[0m\u001b[1;33m=\u001b[0m\u001b[0mproxies\u001b[0m\u001b[1;33m)\u001b[0m\u001b[1;33m\u001b[0m\u001b[1;33m\u001b[0m\u001b[0m\n\u001b[0m\u001b[0;32m     23\u001b[0m         \u001b[0mresponse\u001b[0m\u001b[1;33m.\u001b[0m\u001b[0mraise_for_status\u001b[0m\u001b[1;33m(\u001b[0m\u001b[1;33m)\u001b[0m\u001b[1;33m\u001b[0m\u001b[1;33m\u001b[0m\u001b[0m\n\u001b[0;32m     24\u001b[0m \u001b[1;33m\u001b[0m\u001b[0m\n",
      "\u001b[1;32m~\\Anaconda3\\lib\\site-packages\\requests\\api.py\u001b[0m in \u001b[0;36mget\u001b[1;34m(url, params, **kwargs)\u001b[0m\n\u001b[0;32m     74\u001b[0m \u001b[1;33m\u001b[0m\u001b[0m\n\u001b[0;32m     75\u001b[0m     \u001b[0mkwargs\u001b[0m\u001b[1;33m.\u001b[0m\u001b[0msetdefault\u001b[0m\u001b[1;33m(\u001b[0m\u001b[1;34m'allow_redirects'\u001b[0m\u001b[1;33m,\u001b[0m \u001b[1;32mTrue\u001b[0m\u001b[1;33m)\u001b[0m\u001b[1;33m\u001b[0m\u001b[1;33m\u001b[0m\u001b[0m\n\u001b[1;32m---> 76\u001b[1;33m     \u001b[1;32mreturn\u001b[0m \u001b[0mrequest\u001b[0m\u001b[1;33m(\u001b[0m\u001b[1;34m'get'\u001b[0m\u001b[1;33m,\u001b[0m \u001b[0murl\u001b[0m\u001b[1;33m,\u001b[0m \u001b[0mparams\u001b[0m\u001b[1;33m=\u001b[0m\u001b[0mparams\u001b[0m\u001b[1;33m,\u001b[0m \u001b[1;33m**\u001b[0m\u001b[0mkwargs\u001b[0m\u001b[1;33m)\u001b[0m\u001b[1;33m\u001b[0m\u001b[1;33m\u001b[0m\u001b[0m\n\u001b[0m\u001b[0;32m     77\u001b[0m \u001b[1;33m\u001b[0m\u001b[0m\n\u001b[0;32m     78\u001b[0m \u001b[1;33m\u001b[0m\u001b[0m\n",
      "\u001b[1;32m~\\Anaconda3\\lib\\site-packages\\requests\\api.py\u001b[0m in \u001b[0;36mrequest\u001b[1;34m(method, url, **kwargs)\u001b[0m\n\u001b[0;32m     59\u001b[0m     \u001b[1;31m# cases, and look like a memory leak in others.\u001b[0m\u001b[1;33m\u001b[0m\u001b[1;33m\u001b[0m\u001b[1;33m\u001b[0m\u001b[0m\n\u001b[0;32m     60\u001b[0m     \u001b[1;32mwith\u001b[0m \u001b[0msessions\u001b[0m\u001b[1;33m.\u001b[0m\u001b[0mSession\u001b[0m\u001b[1;33m(\u001b[0m\u001b[1;33m)\u001b[0m \u001b[1;32mas\u001b[0m \u001b[0msession\u001b[0m\u001b[1;33m:\u001b[0m\u001b[1;33m\u001b[0m\u001b[1;33m\u001b[0m\u001b[0m\n\u001b[1;32m---> 61\u001b[1;33m         \u001b[1;32mreturn\u001b[0m \u001b[0msession\u001b[0m\u001b[1;33m.\u001b[0m\u001b[0mrequest\u001b[0m\u001b[1;33m(\u001b[0m\u001b[0mmethod\u001b[0m\u001b[1;33m=\u001b[0m\u001b[0mmethod\u001b[0m\u001b[1;33m,\u001b[0m \u001b[0murl\u001b[0m\u001b[1;33m=\u001b[0m\u001b[0murl\u001b[0m\u001b[1;33m,\u001b[0m \u001b[1;33m**\u001b[0m\u001b[0mkwargs\u001b[0m\u001b[1;33m)\u001b[0m\u001b[1;33m\u001b[0m\u001b[1;33m\u001b[0m\u001b[0m\n\u001b[0m\u001b[0;32m     62\u001b[0m \u001b[1;33m\u001b[0m\u001b[0m\n\u001b[0;32m     63\u001b[0m \u001b[1;33m\u001b[0m\u001b[0m\n",
      "\u001b[1;32m~\\Anaconda3\\lib\\site-packages\\requests\\sessions.py\u001b[0m in \u001b[0;36mrequest\u001b[1;34m(self, method, url, params, data, headers, cookies, files, auth, timeout, allow_redirects, proxies, hooks, stream, verify, cert, json)\u001b[0m\n\u001b[0;32m    540\u001b[0m         }\n\u001b[0;32m    541\u001b[0m         \u001b[0msend_kwargs\u001b[0m\u001b[1;33m.\u001b[0m\u001b[0mupdate\u001b[0m\u001b[1;33m(\u001b[0m\u001b[0msettings\u001b[0m\u001b[1;33m)\u001b[0m\u001b[1;33m\u001b[0m\u001b[1;33m\u001b[0m\u001b[0m\n\u001b[1;32m--> 542\u001b[1;33m         \u001b[0mresp\u001b[0m \u001b[1;33m=\u001b[0m \u001b[0mself\u001b[0m\u001b[1;33m.\u001b[0m\u001b[0msend\u001b[0m\u001b[1;33m(\u001b[0m\u001b[0mprep\u001b[0m\u001b[1;33m,\u001b[0m \u001b[1;33m**\u001b[0m\u001b[0msend_kwargs\u001b[0m\u001b[1;33m)\u001b[0m\u001b[1;33m\u001b[0m\u001b[1;33m\u001b[0m\u001b[0m\n\u001b[0m\u001b[0;32m    543\u001b[0m \u001b[1;33m\u001b[0m\u001b[0m\n\u001b[0;32m    544\u001b[0m         \u001b[1;32mreturn\u001b[0m \u001b[0mresp\u001b[0m\u001b[1;33m\u001b[0m\u001b[1;33m\u001b[0m\u001b[0m\n",
      "\u001b[1;32m~\\Anaconda3\\lib\\site-packages\\requests\\sessions.py\u001b[0m in \u001b[0;36msend\u001b[1;34m(self, request, **kwargs)\u001b[0m\n\u001b[0;32m    653\u001b[0m \u001b[1;33m\u001b[0m\u001b[0m\n\u001b[0;32m    654\u001b[0m         \u001b[1;31m# Send the request\u001b[0m\u001b[1;33m\u001b[0m\u001b[1;33m\u001b[0m\u001b[1;33m\u001b[0m\u001b[0m\n\u001b[1;32m--> 655\u001b[1;33m         \u001b[0mr\u001b[0m \u001b[1;33m=\u001b[0m \u001b[0madapter\u001b[0m\u001b[1;33m.\u001b[0m\u001b[0msend\u001b[0m\u001b[1;33m(\u001b[0m\u001b[0mrequest\u001b[0m\u001b[1;33m,\u001b[0m \u001b[1;33m**\u001b[0m\u001b[0mkwargs\u001b[0m\u001b[1;33m)\u001b[0m\u001b[1;33m\u001b[0m\u001b[1;33m\u001b[0m\u001b[0m\n\u001b[0m\u001b[0;32m    656\u001b[0m \u001b[1;33m\u001b[0m\u001b[0m\n\u001b[0;32m    657\u001b[0m         \u001b[1;31m# Total elapsed time of the request (approximately)\u001b[0m\u001b[1;33m\u001b[0m\u001b[1;33m\u001b[0m\u001b[1;33m\u001b[0m\u001b[0m\n",
      "\u001b[1;32m~\\Anaconda3\\lib\\site-packages\\requests\\adapters.py\u001b[0m in \u001b[0;36msend\u001b[1;34m(self, request, stream, timeout, verify, cert, proxies)\u001b[0m\n\u001b[0;32m    514\u001b[0m                 \u001b[1;32mraise\u001b[0m \u001b[0mSSLError\u001b[0m\u001b[1;33m(\u001b[0m\u001b[0me\u001b[0m\u001b[1;33m,\u001b[0m \u001b[0mrequest\u001b[0m\u001b[1;33m=\u001b[0m\u001b[0mrequest\u001b[0m\u001b[1;33m)\u001b[0m\u001b[1;33m\u001b[0m\u001b[1;33m\u001b[0m\u001b[0m\n\u001b[0;32m    515\u001b[0m \u001b[1;33m\u001b[0m\u001b[0m\n\u001b[1;32m--> 516\u001b[1;33m             \u001b[1;32mraise\u001b[0m \u001b[0mConnectionError\u001b[0m\u001b[1;33m(\u001b[0m\u001b[0me\u001b[0m\u001b[1;33m,\u001b[0m \u001b[0mrequest\u001b[0m\u001b[1;33m=\u001b[0m\u001b[0mrequest\u001b[0m\u001b[1;33m)\u001b[0m\u001b[1;33m\u001b[0m\u001b[1;33m\u001b[0m\u001b[0m\n\u001b[0m\u001b[0;32m    517\u001b[0m \u001b[1;33m\u001b[0m\u001b[0m\n\u001b[0;32m    518\u001b[0m         \u001b[1;32mexcept\u001b[0m \u001b[0mClosedPoolError\u001b[0m \u001b[1;32mas\u001b[0m \u001b[0me\u001b[0m\u001b[1;33m:\u001b[0m\u001b[1;33m\u001b[0m\u001b[1;33m\u001b[0m\u001b[0m\n",
      "\u001b[1;31mConnectionError\u001b[0m: HTTPSConnectionPool(host='www.google.com', port=443): Max retries exceeded with url: /search?q=MARNI+GROUP&num=11&hl=en (Caused by NewConnectionError('<urllib3.connection.HTTPSConnection object at 0x0000025E523BF1C8>: Failed to establish a new connection: [Errno 11001] getaddrinfo failed'))"
     ]
    }
   ],
   "source": [
    " # to search\n",
    "query = str(potential_org[0])\n",
    " \n",
    "for j in search(query):\n",
    "    print(j)"
   ]
  },
  {
   "cell_type": "markdown",
   "id": "e561920e",
   "metadata": {},
   "source": [
    "## References and Credits"
   ]
  },
  {
   "cell_type": "markdown",
   "id": "814d3fd7",
   "metadata": {},
   "source": [
    "***Bird S. et al.***, \"*Natural Language Processing with Python*\" O'Reilly (2009) Chapter 7, [here](https://www.nltk.org/book/ch07.html) the online edition.\n",
    "\n",
    "***Payoda Technology Inc***, [\"*Extract meaningful information from Big Data using NLP and Machine Learning*\"](https://payodatechnologyinc.medium.com/extract-meaningful-information-from-big-data-using-nlp-and-machine-learning-f76972b4b9ea) and references therein.\n",
    "\n",
    "***Nikita Bachani***, [\"*Chunking in NLP: decoded*\"](https://towardsdatascience.com/chunking-in-nlp-decoded-b4a71b2b4e24) and reference therein."
   ]
  }
 ],
 "metadata": {
  "kernelspec": {
   "display_name": "Python 3",
   "language": "python",
   "name": "python3"
  },
  "language_info": {
   "codemirror_mode": {
    "name": "ipython",
    "version": 3
   },
   "file_extension": ".py",
   "mimetype": "text/x-python",
   "name": "python",
   "nbconvert_exporter": "python",
   "pygments_lexer": "ipython3",
   "version": "3.7.4"
  },
  "toc": {
   "base_numbering": "9",
   "nav_menu": {},
   "number_sections": true,
   "sideBar": true,
   "skip_h1_title": false,
   "title_cell": "Table of Contents",
   "title_sidebar": "Contents",
   "toc_cell": false,
   "toc_position": {},
   "toc_section_display": true,
   "toc_window_display": false
  }
 },
 "nbformat": 4,
 "nbformat_minor": 5
}
